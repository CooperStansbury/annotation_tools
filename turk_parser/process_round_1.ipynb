{
 "cells": [
  {
   "cell_type": "markdown",
   "metadata": {},
   "source": [
    "# Dependencies"
   ]
  },
  {
   "cell_type": "code",
   "execution_count": 9,
   "metadata": {},
   "outputs": [],
   "source": [
    "import sys\n",
    "import os\n",
    "import json\n",
    "import pandas as pd\n",
    "import hashlib\n",
    "import spacy\n",
    "import re\n",
    "from importlib import reload\n",
    "import xlsxwriter\n",
    "from datetime import datetime\n",
    "from collections import defaultdict\n",
    "\n",
    "# local file `futils` for utility funcitons\n",
    "import futils"
   ]
  },
  {
   "cell_type": "markdown",
   "metadata": {},
   "source": [
    "# Load Raw Data"
   ]
  },
  {
   "cell_type": "code",
   "execution_count": 90,
   "metadata": {},
   "outputs": [
    {
     "name": "stdout",
     "output_type": "stream",
     "text": [
      "../data/2020-01-21_Random_46-60_KATHLEEN.json\n",
      "../data/2020-01-20_Random_1-15_Kathleen.json\n",
      "../data/2020-01-21_Random_46-60_LIZ.json\n",
      "../data/2020-01-21_Random_16-30_LIZ.json\n",
      "../data/2020-01-20_Random_16-30_KATHLEEN.json\n",
      "../data/2020-01-27_Random_76-90_KATHLEEN.json\n",
      "../data/2020-01-21_Random_31-45_KATHLEEN.json\n",
      "../data/2020-01-27_Random_76-90_LIZ.json\n",
      "../data/2020-01-27_Random_61-75_KATHLEEN.json\n",
      "../data/2020-01-21_Random_31-45_KAYCEE.json\n",
      "../data/2020-01-28_Random_91-105_KAYCEE.json\n",
      "../data/2020-01-27_Random_76-90_KAYCEE.json\n",
      "../data/2020-01-28_Random_91-105_LIZ.json\n",
      "../data/2020-01-28_Random_106-120_KATHLEEN.json\n",
      "../data/2020-01-21_Random_1-15_LIZ.json\n",
      "../data/2020-01-21_Random_16-30_KAYCEE.json\n",
      "../data/2020-01-27_Random_61-75_KAYCEE.json\n",
      "../data/2020-01-21_Random_31-45_LIZ.json\n",
      "../data/2020-01-28_Random_106-120_LIZ.json\n",
      "../data/2020-01-21_Random_46-60_KAYCEE.json\n",
      "../data/2020-01-28_Random_91-105_KATHLEEN.json\n",
      "../data/2020-01-28_Random_121-134_KAYCEE.json\n",
      "../data/2020-01-21_Random_1-15_KAYCEE.json\n",
      "../data/2020-01-28_Random_106-120_KAYCEE.json\n",
      "../data/2020-01-28_Random_121-134_KATHLEEN.json\n",
      "../data/2020-01-28_Random_121-134_LIZ.json\n",
      "../data/2020-01-27_Random_61-75_LIZ.json\n"
     ]
    }
   ],
   "source": [
    "\"\"\"\n",
    "Get a list of files from the `data/` directory.\n",
    "Each is a `.json. file with annotations for multiple informed consent documents. \n",
    "Each `.json` file is a single annotator.\n",
    "\"\"\"\n",
    "\n",
    "data_dir = \"../data/\"\n",
    "json_file_list  = []\n",
    "\n",
    "for subdir, dirs, files in os.walk(data_dir):\n",
    "        for file in files:\n",
    "            json_file_list.append(os.path.join(subdir, file))\n",
    "            \n",
    "futils.printl(json_file_list)"
   ]
  },
  {
   "cell_type": "code",
   "execution_count": 91,
   "metadata": {},
   "outputs": [
    {
     "name": "stdout",
     "output_type": "stream",
     "text": [
      "KATHLEEN {'json_files': ['../data/2020-01-21_Random_46-60_KATHLEEN.json', '../data/2020-01-20_Random_1-15_Kathleen.json', '../data/2020-01-20_Random_16-30_KATHLEEN.json', '../data/2020-01-27_Random_76-90_KATHLEEN.json', '../data/2020-01-21_Random_31-45_KATHLEEN.json', '../data/2020-01-27_Random_61-75_KATHLEEN.json', '../data/2020-01-28_Random_106-120_KATHLEEN.json', '../data/2020-01-28_Random_91-105_KATHLEEN.json', '../data/2020-01-28_Random_121-134_KATHLEEN.json']} \n",
      "\n",
      "LIZ {'json_files': ['../data/2020-01-21_Random_46-60_LIZ.json', '../data/2020-01-21_Random_16-30_LIZ.json', '../data/2020-01-27_Random_76-90_LIZ.json', '../data/2020-01-28_Random_91-105_LIZ.json', '../data/2020-01-21_Random_1-15_LIZ.json', '../data/2020-01-21_Random_31-45_LIZ.json', '../data/2020-01-28_Random_106-120_LIZ.json', '../data/2020-01-28_Random_121-134_LIZ.json', '../data/2020-01-27_Random_61-75_LIZ.json']} \n",
      "\n",
      "KAYCEE {'json_files': ['../data/2020-01-21_Random_31-45_KAYCEE.json', '../data/2020-01-28_Random_91-105_KAYCEE.json', '../data/2020-01-27_Random_76-90_KAYCEE.json', '../data/2020-01-21_Random_16-30_KAYCEE.json', '../data/2020-01-27_Random_61-75_KAYCEE.json', '../data/2020-01-21_Random_46-60_KAYCEE.json', '../data/2020-01-28_Random_121-134_KAYCEE.json', '../data/2020-01-21_Random_1-15_KAYCEE.json', '../data/2020-01-28_Random_106-120_KAYCEE.json']} \n",
      "\n"
     ]
    }
   ],
   "source": [
    "\"\"\"\n",
    "get list of annotators and format their names. \n",
    "\n",
    "This is a dictionary that has formatted names, and the `.json` files that each \n",
    "annotator annotated.\n",
    "\"\"\"\n",
    "reload(futils)\n",
    "annotators = defaultdict()\n",
    "\n",
    "for file in json_file_list:\n",
    "    name = futils.format_annotator_name(file)\n",
    "    if name not in annotators:\n",
    "        annotators[name] = {'json_files': [file]}\n",
    "    else:\n",
    "        annotators[name]['json_files'].append(file)\n",
    "        \n",
    "        \n",
    "futils.printl(annotators, True)"
   ]
  },
  {
   "cell_type": "code",
   "execution_count": 92,
   "metadata": {},
   "outputs": [
    {
     "name": "stdout",
     "output_type": "stream",
     "text": [
      "dict_keys(['KATHLEEN', 'LIZ', 'KAYCEE'])\n"
     ]
    }
   ],
   "source": [
    "print(annotators.keys())"
   ]
  },
  {
   "cell_type": "code",
   "execution_count": 98,
   "metadata": {},
   "outputs": [
    {
     "name": "stdout",
     "output_type": "stream",
     "text": [
      "CPU times: user 3 µs, sys: 1e+03 ns, total: 4 µs\n",
      "Wall time: 7.39 µs\n",
      "dict_keys(['KATHLEEN', 'LIZ', 'KAYCEE'])\n",
      "dict_keys(['json_files', 'document_map', 'annotations'])\n",
      "dict_keys(['json_files', 'document_map', 'annotations'])\n",
      "dict_keys(['json_files', 'document_map', 'annotations'])\n"
     ]
    }
   ],
   "source": [
    "%time\n",
    "\"\"\"\n",
    "Load json objects into a 'raw' format for processing\n",
    "\"\"\"\n",
    "\n",
    "reload(futils)\n",
    "\n",
    "for annotator in annotators:\n",
    "    df_list = []\n",
    "    annotators[annotator]['document_map'] = {}\n",
    "    for file in annotators[annotator]['json_files']:\n",
    "        \n",
    "        tmp_df, doc_map = futils.load_annotations(annotator, file)\n",
    "        df_list.append(tmp_df)\n",
    "        \n",
    "        for doc_id, content in doc_map.items():\n",
    "            if doc_id not in annotators[annotator]['document_map']:\n",
    "                annotators[annotator]['document_map'][doc_id] = content\n",
    "        \n",
    "    annotations = pd.concat(df_list, ignore_index=True)\n",
    "     # add prepared annotation tables \n",
    "    annotators[annotator]['annotations'] = annotations\n",
    "    \n",
    "print(annotators.keys())\n",
    "\n",
    "print(annotators['KATHLEEN'].keys())\n",
    "print(annotators['LIZ'].keys())\n",
    "print(annotators['KAYCEE'].keys())"
   ]
  },
  {
   "cell_type": "code",
   "execution_count": null,
   "metadata": {},
   "outputs": [],
   "source": []
  }
 ],
 "metadata": {
  "kernelspec": {
   "display_name": "Python 3",
   "language": "python",
   "name": "python3"
  },
  "language_info": {
   "codemirror_mode": {
    "name": "ipython",
    "version": 3
   },
   "file_extension": ".py",
   "mimetype": "text/x-python",
   "name": "python",
   "nbconvert_exporter": "python",
   "pygments_lexer": "ipython3",
   "version": "3.7.4"
  }
 },
 "nbformat": 4,
 "nbformat_minor": 4
}
