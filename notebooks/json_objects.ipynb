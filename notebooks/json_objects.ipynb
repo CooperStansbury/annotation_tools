{
 "cells": [
  {
   "cell_type": "code",
   "execution_count": 4,
   "metadata": {},
   "outputs": [],
   "source": [
    "import json\n",
    "import os"
   ]
  },
  {
   "cell_type": "code",
   "execution_count": 13,
   "metadata": {},
   "outputs": [
    {
     "data": {
      "text/plain": [
       "27"
      ]
     },
     "execution_count": 13,
     "metadata": {},
     "output_type": "execute_result"
    }
   ],
   "source": [
    "data_dir = \"../data/\"\n",
    "\n",
    "annotated_files = []\n",
    "\n",
    "for subdir, dirs, files in os.walk(data_dir):\n",
    "    for file in files:\n",
    "        annotated_files.append(os.path.join(subdir, file))\n",
    "\n",
    "len(annotated_files)"
   ]
  },
  {
   "cell_type": "code",
   "execution_count": 20,
   "metadata": {},
   "outputs": [
    {
     "name": "stdout",
     "output_type": "stream",
     "text": [
      "content Ct) MERCY HEALTH \n",
      "GRAND RAPIDS, Ml \n",
      "CONSENT TO RECEIVE \n",
      "Patient Label \n",
      "\n",
      "NON-EMERGENCY TRANSFUSION OF BLOOD AND/OR BLOOD PRODUCTS \n",
      "I understand that I need or may need blood and/or blood products as part of my treatment at MHSM for the duration of: D Inpatient: This hospital admission D Outpatient: Series of treatments from _____to _____ \n",
      "DESCRIPTION OF PROCEDURE: I understand that blood or blood products will be introduced into one of my veins. \n",
      "My doctor will determine the amount of blood or blood products to be transfused based on my particular needs. \n",
      "RISKS: It has been explained to me that the transfusion of blood and/or blood products is ordinarily a very safe, \n",
      "effective, low-risk procedure. I understand the risks may include, but are not limited to: \n",
      "A. MINOR AND TEMPORARY REACTIONS: These are not uncommon, and may include a slight bruise, swelling or local infection in the area where the needle pierces the skin. Minor reactions to the transfusion may include, but are not limited to: headache, chills, fever, mild skin reaction such as itching, rash or hives. \n",
      "B. SERIOUS REACTIONS: These are possible, but very unlikely. Such serious reactions may include, but are not limited to: transmission of infectious diseases such as hepatitis, AIDS, cytomegalovirus (CMV), or bacterial infection. Other serious reactions may include fluid overload, lung failure, or death. Transfusion of the wrong type of blood very rarely occurs but when it does, it can be fatal. \n",
      "AUTOLOGOUS AND DONOR DIRECTED: These risks also pertain to the following: \n",
      "A. Autologous transfusion (prearrangement for the donation of my own blood which is stored and transfused back to me under the direction of my doctor). \n",
      "B. Directed donor (prearrangement for the donation of blood by compatible family members or friends which is stored and transfused back to me under the direction of my doctor). \n",
      "ALTERNATIVES: The alternative methods to transfusion and the option of refusing have been explained to me. understand that it may be impossible for me to use one of these alternative methods. However, I have been told that if I do not have enough blood or critical blood components, I may go into shock or a coma and/or suffer very serious harm or even death. In these situations, I understand there is NO EFFECTIVE ALTERNATIVE TO BLOOD TRANSFUSION. Before 1-sign this form, I know I can talk to my doctor to have my questions answered. \n",
      "I have read (or have had read to me) this Consent to Receive Blood and/or Blood Products. I understand the risks and hazards of treatment and non-treatment and the procedures to be used. By signing this form, I am requesting and giving my consent for MHSM and the doctors and/or nurses to give me blood and/o blood products during this admission or series of treatments. I have been given the chance to refuse the transfusion(s). \n",
      "I understand if I change my mind before the transfusion(s) are given, I must tell my doctor immediately. In order to then refuse blood and/or blood products, I must sign a new Refusal to Receive transfusion of Blood and/or Blood Products. \n",
      "Signature of Patient or Person authorized for Consent Date Time \n",
      "Relationship to Patient \n",
      "Witnessed by Date Time \n",
      "Illllll lllll 111111111111111111 \n",
      "� 2 9 8 3 � /msl (04/27/17) GR2983 \n",
      "\n",
      "annotation [{'label': ['A'], 'points': [{'start': 2613, 'end': 2795, 'text': 'By signing this form, I am requesting and giving my consent for MHSM and the doctors and/or nurses to give me blood and/o blood products during this admission or series of treatments.'}]}, {'label': ['C'], 'points': [{'start': 366, 'end': 558, 'text': 'I understand that blood or blood products will be introduced into one of my veins. \\nMy doctor will determine the amount of blood or blood products to be transfused based on my particular needs.'}]}] \n",
      "\n",
      "extras None \n",
      "\n",
      "metadata {'first_done_at': 1579803097000, 'last_updated_at': 1579803097000, 'sec_taken': 0, 'last_updated_by': 'Bag0yJ0deERAv1tWUwVap8A6bV83', 'status': 'done', 'evaluation': 'NONE'} \n",
      "\n"
     ]
    },
    {
     "data": {
      "text/plain": [
       "[None, None, None, None]"
      ]
     },
     "execution_count": 20,
     "metadata": {},
     "output_type": "execute_result"
    }
   ],
   "source": [
    "dumps = [json.loads(dump) for dump in open(annotated_files[0])]\n",
    "[print(k, v, '\\n') for k, v in dumps[0].items()]\n",
    "        \n",
    "        \n",
    "#         for icd_doc in dumps:\n",
    "\n",
    "#             # handle None annotations\n",
    "#             if icd_doc['annotation'] is None:\n",
    "#                 continue \n",
    "\n",
    "#             for annotation in icd_doc['annotation']:\n",
    "\n",
    "#                 # perform preprocessing on sentences in annotation\n",
    "#                 # primarily to handle multiple sentence annotations\n",
    "#                 sentences = self._clean_raw_annotation_text(annotation['points'][0]['text'])\n",
    "\n",
    "#                 # start and end character positions recorded\n",
    "#                 # only for the first sentence, everything else\n",
    "#                 # will require an offset during alignment\n",
    "#                 start_char = annotation['points'][0]['start']\n",
    "#                 end_char = annotation['points'][0]['end']\n",
    "\n",
    "#                 # track the number of sentences\n",
    "#                 # with the index\n",
    "#                 for idx, sent in enumerate(sentences):\n",
    "\n",
    "#                     processed_annotations.append({\n",
    "#                         'ICD_doc_id' : doc_id,\n",
    "#                         'json_filename':json_file,\n",
    "#                         'annotator': name,\n",
    "#                         'annotation_id': self.get_document_id(annotation['points'][0]['text'], 8),\n",
    "#                         'A': 1 if 'A' in annotation['label'] else 0,\n",
    "#                         'B': 1 if 'B' in annotation['label'] else 0,\n",
    "#                         'C': 1 if 'C' in annotation['label'] else 0,\n",
    "#                         'start_char':start_char,\n",
    "#                         'end_char':end_char,\n",
    "#                         'text':sent,\n",
    "#                         'sentence_count': (idx + 1)\n",
    "#                     })\n",
    "\n",
    "#     return processed_annotations"
   ]
  },
  {
   "cell_type": "code",
   "execution_count": null,
   "metadata": {},
   "outputs": [],
   "source": []
  }
 ],
 "metadata": {
  "kernelspec": {
   "display_name": "Python 3",
   "language": "python",
   "name": "python3"
  },
  "language_info": {
   "codemirror_mode": {
    "name": "ipython",
    "version": 3
   },
   "file_extension": ".py",
   "mimetype": "text/x-python",
   "name": "python",
   "nbconvert_exporter": "python",
   "pygments_lexer": "ipython3",
   "version": "3.7.6"
  }
 },
 "nbformat": 4,
 "nbformat_minor": 4
}
