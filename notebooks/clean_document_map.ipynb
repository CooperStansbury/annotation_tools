{
 "cells": [
  {
   "cell_type": "code",
   "execution_count": 1,
   "metadata": {},
   "outputs": [],
   "source": [
    "import sys\n",
    "import os\n",
    "import json\n",
    "import pandas as pd\n",
    "import hashlib\n",
    "import spacy\n",
    "import re\n",
    "import random\n",
    "from importlib import reload\n",
    "from datetime import datetime\n",
    "from collections import defaultdict\n",
    "from pprint import pprint"
   ]
  },
  {
   "cell_type": "code",
   "execution_count": 2,
   "metadata": {},
   "outputs": [
    {
     "name": "stdout",
     "output_type": "stream",
     "text": [
      "dict_keys(['95581557', '69408590', '36073164', '37497740', '24000641', '784359', '35262426', '46217133', '23099502', '97398937', '64616759', '58795983', '25969537', '94407046', '99175728', '31716101', '98303194', '27509790', '30924115', '6848654', '71475014', '58411629', '64073684', '15463536', '68411469', '62604978', '35790608', '24397520', '1775988', '70530481', '23440484', '2843282', '85954293', '84061096', '560211', '56347879', '5156065', '93118497', '17651082', '24229633', '25946820', '41320281', '16450710', '52351579', '22857905', '9849800', '96936919', '26577152', '23981145', '7319132', '60208881', '74909134', '7863434', '37431393', '95943802', '30820132', '26369189', '73758940', '60696396', '96278299', '38835297', '75494187', '32141700', '96480505', '69390110', '85095297', '67680881', '7960085', '79490243', '24677931', '66694691', '62892380', '17582431', '10532027', '33035501', '20918211', '80604657', '89016020', '58371701', '39000652', '59904054', '99272690', '2803036', '82742889', '71667445', '73694126', '7405868', '43930936', '2085743', '72274887', '56244564', '21052286', '42963573', '37132104', '2759500', '96316091', '75945645', '24653234', '99072813', '74029746', '70111546', '51785533', '75577290', '92595221', '10932687', '78061880', '11170355', '42082024', '8412981', '65104204', '63443341', '67287213', '65639567', '30814585', '11421395', '21614145', '98122003', '63522702', '68279543', '16554214', '94194125', '61223658', '4610935', '4747445', '48827377', '76484772', '51977242', '35776641', '3978892', '71111669', '11033050', '72804746', '77883920', '9687557'])\n"
     ]
    }
   ],
   "source": [
    "\"\"\"\n",
    "Load pre-processed files\n",
    "\"\"\"\n",
    "\n",
    "document_map = json.load(open(\"processed_annotations/DOCUMENT_MAP_02-14-2020.json\"))\n",
    "print(document_map.keys())"
   ]
  },
  {
   "cell_type": "code",
   "execution_count": 6,
   "metadata": {},
   "outputs": [
    {
     "name": "stdout",
     "output_type": "stream",
     "text": [
      "['consent-form-genetics.txt',\n",
      " 'Routine_Testing_CONSENT_TO_TREATMENT_SAMPLE-DCH_0675CF.txt',\n",
      " 'ECT consent_Feb2017.txt']\n"
     ]
    }
   ],
   "source": [
    "\"\"\"\n",
    "Load corrputed files, handle \n",
    "ANNOYING encoding issues the easy way\n",
    "\"\"\"\n",
    "dir_path = \"corrupt_forms/\"\n",
    "\n",
    "corrupt_files = {}\n",
    "\n",
    "for filepath in os.listdir(dir_path):\n",
    "    with open(f\"{dir_path}{filepath}\", 'r') as file:\n",
    "        data = str(file.read()).strip().encode('ascii', 'ignore')\n",
    "        corrupt_files[filepath] = {\"data\":data}\n",
    "        \n",
    "pprint(list(corrupt_files.keys()))"
   ]
  },
  {
   "cell_type": "code",
   "execution_count": 7,
   "metadata": {},
   "outputs": [
    {
     "name": "stdout",
     "output_type": "stream",
     "text": [
      "docuement_ID: 98303194\n",
      "dataturks len: 7405\n",
      "correct_file len: 7337\n"
     ]
    }
   ],
   "source": [
    "for k,v in document_map.items():\n",
    "    if \"http://www.bmc.org/diagnostic-genetics/services.htm\" in v['raw_content']:\n",
    "        print(f\"docuement_ID: {k}\")\n",
    "        print(f\"dataturks len: {len(v['raw_content'])}\")\n",
    "        print(f\"correct_file len: {len(corrupt_files['consent-form-genetics.txt']['data'])}\")"
   ]
  },
  {
   "cell_type": "code",
   "execution_count": 8,
   "metadata": {},
   "outputs": [
    {
     "name": "stdout",
     "output_type": "stream",
     "text": [
      "docuement_ID: 65639567\n",
      "dataturks len: 4561\n",
      "correct_file len: 4461\n"
     ]
    }
   ],
   "source": [
    "for k,v in document_map.items():\n",
    "    if \"MICHIGAN DEPARTMENT OF HEALTH AND HUMAN SERVICES\" in v['raw_content']:\n",
    "        print(f\"docuement_ID: {k}\")\n",
    "        print(f\"dataturks len: {len(v['raw_content'])}\")\n",
    "        print(f\"correct_file len: {len(corrupt_files['Routine_Testing_CONSENT_TO_TREATMENT_SAMPLE-DCH_0675CF.txt']['data'])}\")"
   ]
  },
  {
   "cell_type": "code",
   "execution_count": 9,
   "metadata": {},
   "outputs": [
    {
     "name": "stdout",
     "output_type": "stream",
     "text": [
      "docuement_ID: 24000641\n",
      "dataturks len: 14094\n",
      "correct_file len: 13961\n"
     ]
    }
   ],
   "source": [
    "for k,v in document_map.items():\n",
    "    if \"Consent for ElectroConvulsive Therapy (ECT) Page 1 of 2\" in v['raw_content']:\n",
    "        print(f\"docuement_ID: {k}\")\n",
    "        print(f\"dataturks len: {len(v['raw_content'])}\")\n",
    "        print(f\"correct_file len: {len(corrupt_files['ECT consent_Feb2017.txt']['data'])}\")"
   ]
  },
  {
   "cell_type": "code",
   "execution_count": 10,
   "metadata": {},
   "outputs": [
    {
     "data": {
      "text/plain": [
       "\"\\nNOTE:\\n    - I don't see clear evidence that these where duplicated.\\n    - I believe that there is evidence that these (seemingly duplicated annotations) are human errors\\n    - Will have to handle on the annotation side\\n\""
      ]
     },
     "execution_count": 10,
     "metadata": {},
     "output_type": "execute_result"
    }
   ],
   "source": [
    "\"\"\"\n",
    "NOTE:\n",
    "    - I don't see clear evidence that these where duplicated.\n",
    "    - I believe that there is evidence that these (seemingly duplicated annotations) are human errors\n",
    "    - Will have to handle on the annotation side\n",
    "\"\"\""
   ]
  },
  {
   "cell_type": "code",
   "execution_count": 11,
   "metadata": {},
   "outputs": [
    {
     "name": "stdout",
     "output_type": "stream",
     "text": [
      "Y AND BEHAVIORAL SCIENCES \n",
      "Patient Identification Information \n",
      "Consent for ElectroConvulsive Therapy (ECT) Page 2 of 2 \n",
      "8) By signing below I agree: \n",
      "� \n",
      "That a provider has explained and answered all of my questions related to ECT. \n",
      "\n",
      "� \n",
      "If I have further questions, I have the right to have those questions answered. \n",
      "\n",
      "� \n",
      "That no guarantees were made concerning the outcome, as the practice of medicine and psychiatry is not an exact science. \n",
      "\n",
      "� \n",
      "To have ECT. \n",
      "\n",
      "� \n",
      "That I have identified to a provider any restrictions on the sharing of information learned from the ECT. \n",
      "\n",
      "� \n",
      "I have not given up my right to refuse treatment at any time. \n",
      "\n",
      "� \n",
      "That I am entitled to a signed copy of this consent form. \n",
      "\n",
      "\n",
      "For the following statement, if the patient does not agree, cross it out with a single line. The patient and provider shall initial, date and time the cross-out: \n",
      "� To allow observers or technical advisors to be present during the ECT treatment. \n",
      "Patient Signature Date \n",
      "******IF THE PATIENT IS \n",
      "-----------------------------------------------------\n",
      "te and time the cross-out: \n",
      "� To allow observers or technical advisors to be present during the ECT treatment. \n",
      "Patient Signature Date \n",
      "******IF THE PATIENT IS UNABLE TO CONSENT, THE FOLLOWING SECTION ON SURROGATE DECISION MAKER MUST BE COMPLETED****** PATIENT IS UNABLE TO CONSENT BECAUSE: \n",
      " Patient is a minor not legally able to consent  Patient lacks capacity (requires attending of record to coordinate documentation of incapacity in the medical record per Johns Hopkins informed consent policy)  Other (describe): \n",
      "Health Care Agent (HCA)/Surrogate: \n",
      "Printed Name Signature       (N/A if Telephone Consent) Date PRIMARY HEALTH CARE DECISION-MAKER (check category 1 or 2): \n",
      "   1. Health Care Agent (HCA) - per Advance Directive \n",
      "2. Surrogates when a Health Care Agent is not identified (in priority order):  Legally Appointed Guardian    Spouse/domestic partner  Adult child  Parent  Adult sibling  Friend or other relative with affidavit. \n",
      "IF A HCA OR PRIMARY SURROGATE DECISION MAKER IS UNAVAI\n"
     ]
    }
   ],
   "source": [
    "print(document_map['24000641']['raw_content'][8000:9000])\n",
    "\n",
    "print(\"-----------------------------------------------------\")\n",
    "\n",
    "print(document_map['24000641']['raw_content'][11900:12900])"
   ]
  },
  {
   "cell_type": "code",
   "execution_count": 17,
   "metadata": {},
   "outputs": [
    {
     "name": "stdout",
     "output_type": "stream",
     "text": [
      "CONSENT \n",
      "DEPARTMENT OF PSYCHIATRY AND BEHAVIORAL SCIENCES \n",
      "Patient Identification Information \n",
      "Consent for ElectroConvulsive Therapy (ECT) Page 1 of 2 \n",
      "Date: Patient Name (Print) \n",
      "1) I, the undersigned, understand the potential benefits as well as the potential risks involved in treatment of my diagnosis of \n",
      " by means of ECT. I acknowledge that Dr.  has explained the purpose of the procedure, the risks/benefits of the procedure, the alternatives with the risks and benefits and the possibility of complications. \n",
      "I hereby give my consent and authorize and request the staff of the Johns Hopkins Hospital to give a series of ECT treatments to me. My doctor intends to begin the treatment course with one of the following (check one):  Unilateral treatments: Specify right  or left   Bilateral treatments  The lead placement may be altered during the treatment series based on the clinical response \n",
      "2) The indications of ECT have been explained to me in a manner that I understand. These include psychiatric disorders such as major depression, bipolar disorder, schizophrenia, catatonia and other conditions as explained by the provider. \n",
      "3) The benefits and likelihood of success of ECT have been explained to me in a manner that I understand. These include improvement of mood and psychiatric condition. ECT has been shown to be a highly effective treatment. \n",
      "4) The major risks and complications of ECT have been explained to me in a manner that I understand. These may include such items as failure to obtain the desired result, discomfort, injury, need for additional treatment(s) and death. \n",
      "Additional risks include: \n",
      "� \n",
      "Some patients have difficulty forming new memories while getting ECT which, once ECT is stopped, should resolve \n",
      "\n",
      "� \n",
      "Memory difficulty for the period surrounding the treatment is to be expected \n",
      "\n",
      "� \n",
      "All patients experience some degree of permanent loss of memories around the time of treatment, although many of those lost memories may return \n",
      "\n",
      "� \n",
      "A small percentage (1/200) of patients report severe problems in memory that persist \n",
      "\n",
      "� \n",
      "Although rare, there is a very small chance that some of the procedure may be recalled after the treatment \n",
      "\n",
      "� \n",
      "Myocardial infarct (heart attack) or stroke are rare \n",
      "\n",
      "� \n",
      "Dislocations or bone fractures are extremely rare \n",
      "\n",
      "� \n",
      "Risk of damage to fragile teeth \n",
      "\n",
      "\n",
      "5) The reasonable alternatives, including major risks, benefits, and/or side effects, have been explained to me in a manner I understand. These include: \n",
      "Alternatives (choose all applicable): Major Risks, Benefits, and Side Effects of Each Alternative: \n",
      " Not undergo procedure listed above Possible progression of disease, no improvements in symptoms or condition, possible death. Benefits include not incurring risks associated with the above. \n",
      " Medication A non-invasive method that may not effectively treat the psychiatric condition with possible 6-8 weeks to achieve the desired outcome and with potential side effects such as orthostatic hypotension and cardiac arrhythmias. Benefits include not incurring risks associated with the procedure. \n",
      "A non-invasive method which is most effective when paired with medication over time and may not  Psychotherapy effectively treat the severe psychiatric condition. Benefits include not incurring risks associated with the procedure. \n",
      "6) During the procedure, the provider may become aware of conditions which were not apparent before the start of the procedure. I consent to additional or different operations or procedures the provider considers necessary or appropriate to diagnose, treat, or cure such conditions. \n",
      "7) Due to the risk of confusion and memory loss, it is important to avoid driving and making important personal or business decisions during the ECT course. After the acute treatment course, there will be a convalescence period of approximately 1 to 3 weeks. During this period, it is important to continue refraining from these activities until advised otherwise by the treating physician. \n",
      "\n",
      "\n",
      "CONSENT \n",
      "DEPARTMENT OF PSYCHIATRY AND BEHAVIORAL SCIENCES \n",
      "Patient Identification Information \n",
      "Consent for ElectroConvulsive Therapy (ECT) Page 1 of 2 \n",
      "Date: Patient Name (Print) \n",
      "1) I, the undersigned, understand the potential benefits as well as the potential risks involved in treatment of my diagnosis of \n",
      " by means of ECT. I acknowledge that Dr.  has explained the purpose of the procedure, the risks/benefits of the procedure, the alternatives with the risks and benefits and the possibility of complications. \n",
      "I hereby give my consent and authorize and request the staff of the Johns Hopkins Hospital to give a series of ECT treatments to me. My doctor intends to begin the treatment course with one of the following (check one):  Unilateral treatments: Specify right  or left   Bilateral treatments  The lead placement may be altered during the treatment series based on the clinical response \n",
      "2) The indications of ECT have been explained to me in a manner that I understand. These include psychiatric disorders such as major depression, bipolar disorder, schizophrenia, catatonia and other conditions as explained by the provider. \n",
      "3) The benefits and likelihood of success of ECT have been explained to me in a manner that I understand. These include improvement of mood and psychiatric condition. ECT has been shown to be a highly effective treatment. \n",
      "4) The major risks and complications of ECT have been explained to me in a manner that I understand. These may include such items as failure to obtain the desired result, discomfort, injury, need for additional treatment(s) and death. \n",
      "Additional risks include: \n",
      "� \n",
      "Some patients have difficulty forming new memories while getting ECT which, once ECT is stopped, should resolve \n",
      "\n",
      "� \n",
      "Memory difficulty for the period surrounding the treatment is to be expected \n",
      "\n",
      "� \n",
      "All patients experience some degree of permanent loss of memories around the time of treatment, although many of those lost memories may return \n",
      "\n",
      "� \n",
      "A small percentage (1/200) of patients report severe problems in memory that persist \n",
      "\n",
      "� \n",
      "Although rare, there is a very small chance that some of the procedure may be recalled after the treatment \n",
      "\n",
      "� \n",
      "Myocardial infarct (heart attack) or stroke are rare \n",
      "\n",
      "� \n",
      "Dislocations or bone fractures are extremely rare \n",
      "\n",
      "� \n",
      "Risk of damage to fragile teeth \n",
      "\n",
      "\n",
      "5) The reasonable alternatives, including major risks, benefits, and/or side effects, have been explained to me in a manner I understand. These include: \n",
      "Alternatives (choose all applicable): Major Risks, Benefits, and Side Effects of Each Alternative: \n",
      " Not undergo procedure listed above Possible progression of disease, no improvements in symptoms or condition, possible death. Benefits include not incurring risks associated with the above. \n",
      " Medication A non-invasive method that may not effectively treat the psychiatric condition with possible 6-8 weeks to achieve the desired outcome and with potential side effects such as orthostatic hypotension and cardiac arrhythmias. Benefits include not incurring risks associated with the procedure. \n",
      "A non-invasive method which is most effective when paired with medication over time and may not  Psychotherapy effectively treat the severe psychiatric condition. Benefits include not incurring risks associated with the procedure. \n",
      "6) During the procedure, the provider may become aware of conditions which were not apparent before the start of the procedure. I consent to additional or different operations or procedures the provider considers necessary or appropriate to diagnose, treat, or cure such conditions. \n",
      "7) Due to the risk of confusion and memory loss, it is important to avoid driving and making important personal or business decisions during the ECT course. After the acute treatment course, there will be a convalescence period of approximately 1 to 3 weeks. During this period, it is important to continue refraining from these activities until advised otherwise by the treating physician. \n",
      "\n",
      "DEPARTMENT OF PSYCHIATRY AND BEHAVIORAL SCIENCES \n",
      "Patient Identification Information \n",
      "Consent for ElectroConvulsive Therapy (ECT) Page 2 of 2 \n",
      "8) By signing below I agree: \n",
      "� \n",
      "That a provider has explained and answered all of my questions related to ECT. \n",
      "\n",
      "� \n",
      "If I have further questions, I have the right to have those questions answered. \n",
      "\n",
      "� \n",
      "That no guarantees were made concerning the outcome, as the practice of medicine and psychiatry is not an exact science. \n",
      "\n",
      "� \n",
      "To have ECT. \n",
      "\n",
      "� \n",
      "That I have identified to a provider any restrictions on the sharing of information learned from the ECT. \n",
      "\n",
      "� \n",
      "I have not given up my right to refuse treatment at any time. \n",
      "\n",
      "� \n",
      "That I am entitled to a signed copy of this consent form. \n",
      "\n",
      "\n",
      "For the following statement, if the patient does not agree, cross it out with a single line. The patient and provider shall initial, date and time the cross-out: \n",
      "� To allow observers or technical advisors to be present during the ECT treatment. \n",
      "Patient Signature Date \n",
      "******IF THE PATIENT IS UNABLE TO CONSENT, THE FOLLOWING SECTION ON SURROGATE DECISION MAKER MUST BE COMPLETED****** PATIENT IS UNABLE TO CONSENT BECAUSE: \n",
      " Patient is a minor not legally able to consent  Patient lacks capacity (requires attending of record to coordinate documentation of incapacity in the medical record per Johns Hopkins informed consent policy)  Other (describe): \n",
      "Health Care Agent (HCA)/Surrogate: \n",
      "Printed Name Signature       (N/A if Telephone Consent) Date PRIMARY HEALTH CARE DECISION-MAKER (check category 1 or 2): \n",
      "   1. Health Care Agent (HCA) - per Advance Directive \n",
      "2. Surrogates when a Health Care Agent is not identified (in priority order):  Legally Appointed Guardian    Spouse/domestic partner  Adult child  Parent  Adult sibling  Friend or other relative with affidavit. \n",
      "IF A HCA OR PRIMARY SURROGATE DECISION MAKER IS UNAVAILABLE FOR THIS CONSENT, AN ALTERNATE SURROGATE MAY CONSENT. INDICATE REASON FOR USE OF ALTERNATE SURROGATE. The HCA/primary surrogate decision maker: (check all that apply) \n",
      " Could not be reached to provide consent  Did not respond to requests for assistance with obtaining consent  Was incapacitated  Was unwilling to make decisions  Other (describe): \n",
      "*************************************END SURROGATE DECISION MAKER SECTION************************************* \n",
      "__________________________________________________________  ____________________  _________________  _________________  \n",
      "Signature (full name) of Provider Obtaining Consent  Title  Date  Time  \n",
      "Print Provider First Name: _______________________  Last Name: ____________________________  ID No.  ___________________________  \n",
      "__________________________________________________________  ____________________  _________________  _________________  \n",
      "Witness Signature   (Relationship/Title)  Date  Time  \n",
      "\n",
      " Telephone Consent  (for telephone consent, witness must be Physician, Nurse, Advance Practice Nurse, PA, or Clinical Technologist) Interpreter�s Printed Name  Remotely  In-person Interpreter Signature (if in person) Date Time \n",
      "\n",
      "DEPARTMENT OF PSYCHIATRY AND BEHAVIORAL SCIENCES \n",
      "Patient Identification Information \n",
      "Consent for ElectroConvulsive Therapy (ECT) Page 2 of 2 \n",
      "8) By signing below I agree: \n",
      "� \n",
      "That a provider has explained and answered all of my questions related to ECT. \n",
      "\n",
      "� \n",
      "If I have further questions, I have the right to have those questions answered. \n",
      "\n",
      "� \n",
      "That no guarantees were made concerning the outcome, as the practice of medicine and psychiatry is not an exact science. \n",
      "\n",
      "� \n",
      "To have ECT. \n",
      "\n",
      "� \n",
      "That I have identified to a provider any restrictions on the sharing of information learned from the ECT. \n",
      "\n",
      "� \n",
      "I have not given up my right to refuse treatment at any time. \n",
      "\n",
      "� \n",
      "That I am entitled to a signed copy of this consent form. \n",
      "\n",
      "\n",
      "For the following statement, if the patient does not agree, cross it out with a single line. The patient and provider shall initial, date and time the cross-out: \n",
      "� To allow observers or technical advisors to be present during the ECT treatment. \n",
      "Patient Signature Date \n",
      "******IF THE PATIENT IS UNABLE TO CONSENT, THE FOLLOWING SECTION ON SURROGATE DECISION MAKER MUST BE COMPLETED****** PATIENT IS UNABLE TO CONSENT BECAUSE: \n",
      " Patient is a minor not legally able to consent  Patient lacks capacity (requires attending of record to coordinate documentation of incapacity in the medical record per Johns Hopkins informed consent policy)  Other (describe): \n",
      "Health Care Agent (HCA)/Surrogate: \n",
      "Printed Name Signature       (N/A if Telephone Consent) Date PRIMARY HEALTH CARE DECISION-MAKER (check category 1 or 2): \n",
      "   1. Health Care Agent (HCA) - per Advance Directive \n",
      "2. Surrogates when a Health Care Agent is not identified (in priority order):  Legally Appointed Guardian    Spouse/domestic partner  Adult child  Parent  Adult sibling  Friend or other relative with affidavit. \n",
      "IF A HCA OR PRIMARY SURROGATE DECISION MAKER IS UNAVAILABLE FOR THIS CONSENT, AN ALTERNATE SURROGATE MAY CONSENT. INDICATE REASON FOR USE OF ALTERNATE SURROGATE. The HCA/primary surrogate decision maker: (check all that apply) \n",
      " Could not be reached to provide consent  Did not respond to requests for assistance with obtaining consent  Was incapacitated  Was unwilling to make decisions  Other (describe): \n",
      "*************************************END SURROGATE DECISION MAKER SECTION************************************* \n",
      "__________________________________________________________  ____________________  _________________  _________________  \n",
      "Signature (full name) of Provider Obtaining Consent  Title  Date  Time  \n",
      "Print Provider First Name: _______________________  Last Name: ____________________________  ID No.  ___________________________  \n",
      "__________________________________________________________  ____________________  _________________  _________________  \n",
      "Witness Signature   (Relationship/Title)  Date  Time  \n",
      "\n",
      " Telephone Consent  (for telephone consent, witness must be Physician, Nurse, Advance Practice Nurse, PA, or Clinical Technologist) Interpreter�s Printed Name  Remotely  In-person Interpreter Signature (if in person) Date Time\n"
     ]
    }
   ],
   "source": [
    "print(document_map['24000641']['raw_content'])"
   ]
  },
  {
   "cell_type": "code",
   "execution_count": null,
   "metadata": {},
   "outputs": [],
   "source": []
  }
 ],
 "metadata": {
  "kernelspec": {
   "display_name": "Python 3",
   "language": "python",
   "name": "python3"
  },
  "language_info": {
   "codemirror_mode": {
    "name": "ipython",
    "version": 3
   },
   "file_extension": ".py",
   "mimetype": "text/x-python",
   "name": "python",
   "nbconvert_exporter": "python",
   "pygments_lexer": "ipython3",
   "version": "3.7.6"
  }
 },
 "nbformat": 4,
 "nbformat_minor": 4
}
