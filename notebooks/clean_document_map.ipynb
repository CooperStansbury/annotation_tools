{
 "cells": [
  {
   "cell_type": "code",
   "execution_count": 14,
   "metadata": {},
   "outputs": [],
   "source": [
    "import sys\n",
    "import os\n",
    "import json\n",
    "import pandas as pd\n",
    "import hashlib\n",
    "import spacy\n",
    "import re\n",
    "import random\n",
    "from importlib import reload\n",
    "from datetime import datetime\n",
    "from collections import defaultdict\n",
    "from pprint import pprint"
   ]
  },
  {
   "cell_type": "code",
   "execution_count": 16,
   "metadata": {},
   "outputs": [
    {
     "name": "stdout",
     "output_type": "stream",
     "text": [
      "dict_keys(['95581557', '69408590', '36073164', '37497740', '24000641', '784359', '35262426', '46217133', '23099502', '97398937', '64616759', '58795983', '25969537', '94407046', '99175728', '31716101', '98303194', '27509790', '30924115', '6848654', '71475014', '58411629', '64073684', '15463536', '68411469', '62604978', '35790608', '24397520', '1775988', '70530481', '23440484', '2843282', '85954293', '84061096', '560211', '56347879', '5156065', '93118497', '17651082', '24229633', '25946820', '41320281', '16450710', '52351579', '22857905', '9849800', '96936919', '26577152', '23981145', '7319132', '60208881', '74909134', '7863434', '37431393', '95943802', '30820132', '26369189', '73758940', '60696396', '96278299', '38835297', '75494187', '32141700', '96480505', '69390110', '85095297', '67680881', '7960085', '79490243', '24677931', '66694691', '62892380', '17582431', '10532027', '33035501', '20918211', '80604657', '89016020', '58371701', '39000652', '59904054', '99272690', '2803036', '82742889', '71667445', '73694126', '7405868', '43930936', '2085743', '72274887', '56244564', '21052286', '42963573', '37132104', '2759500', '96316091', '75945645', '24653234', '99072813', '74029746', '70111546', '51785533', '75577290', '92595221', '10932687', '78061880', '11170355', '42082024', '8412981', '65104204', '63443341', '67287213', '65639567', '30814585', '11421395', '21614145', '98122003', '63522702', '68279543', '16554214', '94194125', '61223658', '4610935', '4747445', '48827377', '76484772', '51977242', '35776641', '3978892', '71111669', '11033050', '72804746', '77883920', '9687557'])\n"
     ]
    }
   ],
   "source": [
    "\"\"\"\n",
    "Load pre-processed files\n",
    "\"\"\"\n",
    "\n",
    "document_map = json.load(open(\"processed_annotations/DOCUMENT_MAP_02-14-2020.json\"))\n",
    "print(document_map.keys())"
   ]
  },
  {
   "cell_type": "code",
   "execution_count": 46,
   "metadata": {},
   "outputs": [
    {
     "name": "stdout",
     "output_type": "stream",
     "text": [
      "['consent-form-genetics.txt',\n",
      " 'Routine_Testing_CONSENT_TO_TREATMENT_SAMPLE-DCH_0675CF.txt',\n",
      " 'ECT consent_Feb2017.txt']\n"
     ]
    }
   ],
   "source": [
    "\"\"\"\n",
    "Load corrputed files, handle \n",
    "ANNOYING encoding issues the easy way\n",
    "\"\"\"\n",
    "dir_path = \"corrupt_forms/\"\n",
    "\n",
    "corrupt_files = {}\n",
    "\n",
    "for filepath in os.listdir(dir_path):\n",
    "    with open(f\"{dir_path}{filepath}\", 'r') as file:\n",
    "        data = str(file.read()).strip().encode('ascii', 'ignore')\n",
    "        corrupt_files[filepath] = {\"data\":data}\n",
    "        \n",
    "pprint(list(corrupt_files.keys()))"
   ]
  },
  {
   "cell_type": "code",
   "execution_count": 49,
   "metadata": {},
   "outputs": [
    {
     "name": "stdout",
     "output_type": "stream",
     "text": [
      "docuement_ID: 8\n",
      "dataturks len: 7405\n",
      "correct_file len: 7337\n"
     ]
    }
   ],
   "source": [
    "for k,v in document_map.items():\n",
    "    if \"http://www.bmc.org/diagnostic-genetics/services.htm\" in v['raw_content']:\n",
    "        print(f\"docuement_ID: {k}\")\n",
    "        print(f\"dataturks len: {len(v['raw_content'])}\")\n",
    "        print(f\"correct_file len: {len(corrupt_files['consent-form-genetics.txt']['data'])}\")"
   ]
  },
  {
   "cell_type": "code",
   "execution_count": 50,
   "metadata": {},
   "outputs": [
    {
     "name": "stdout",
     "output_type": "stream",
     "text": [
      "docuement_ID: 8\n",
      "dataturks len: 4561\n",
      "correct_file len: 4461\n"
     ]
    }
   ],
   "source": [
    "for k,v in document_map.items():\n",
    "    if \"MICHIGAN DEPARTMENT OF HEALTH AND HUMAN SERVICES\" in v['raw_content']:\n",
    "        print(f\"docuement_ID: {k}\")\n",
    "        print(f\"dataturks len: {len(v['raw_content'])}\")\n",
    "        print(f\"correct_file len: {len(corrupt_files['Routine_Testing_CONSENT_TO_TREATMENT_SAMPLE-DCH_0675CF.txt']['data'])}\")"
   ]
  },
  {
   "cell_type": "code",
   "execution_count": 51,
   "metadata": {},
   "outputs": [
    {
     "name": "stdout",
     "output_type": "stream",
     "text": [
      "docuement_ID: 24000641\n",
      "dataturks len: 14094\n",
      "correct_file len: 13961\n"
     ]
    }
   ],
   "source": [
    "for k,v in document_map.items():\n",
    "    if \"Consent for ElectroConvulsive Therapy (ECT) Page 1 of 2\" in v['raw_content']:\n",
    "        print(f\"docuement_ID: {k}\")\n",
    "        print(f\"dataturks len: {len(v['raw_content'])}\")\n",
    "        print(f\"correct_file len: {len(corrupt_files['ECT consent_Feb2017.txt']['data'])}\")"
   ]
  },
  {
   "cell_type": "code",
   "execution_count": 53,
   "metadata": {},
   "outputs": [
    {
     "data": {
      "text/plain": [
       "\"\\nNOTE:\\n    - I don't see clear evidence that these where duplicated.\\n    - I believe that there is evidence that these (seemingly duplicated annotations) are human errors\\n    - Will have to handle on the annotation side\\n\""
      ]
     },
     "execution_count": 53,
     "metadata": {},
     "output_type": "execute_result"
    }
   ],
   "source": [
    "\"\"\"\n",
    "NOTE:\n",
    "    - I don't see clear evidence that these where duplicated.\n",
    "    - I believe that there is evidence that these (seemingly duplicated annotations) are human errors\n",
    "    - Will have to handle on the annotation side\n",
    "\"\"\""
   ]
  },
  {
   "cell_type": "code",
   "execution_count": null,
   "metadata": {},
   "outputs": [],
   "source": []
  }
 ],
 "metadata": {
  "kernelspec": {
   "display_name": "Python 3",
   "language": "python",
   "name": "python3"
  },
  "language_info": {
   "codemirror_mode": {
    "name": "ipython",
    "version": 3
   },
   "file_extension": ".py",
   "mimetype": "text/x-python",
   "name": "python",
   "nbconvert_exporter": "python",
   "pygments_lexer": "ipython3",
   "version": "3.7.4"
  }
 },
 "nbformat": 4,
 "nbformat_minor": 4
}
