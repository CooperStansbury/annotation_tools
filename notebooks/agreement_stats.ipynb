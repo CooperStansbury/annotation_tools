{
 "cells": [
  {
   "cell_type": "code",
   "execution_count": 1,
   "metadata": {},
   "outputs": [],
   "source": [
    "import pandas as pd\n",
    "import numpy as np\n",
    "\n",
    "from sklearn.metrics import cohen_kappa_score"
   ]
  },
  {
   "cell_type": "code",
   "execution_count": 2,
   "metadata": {},
   "outputs": [
    {
     "data": {
      "text/html": [
       "<div>\n",
       "<style scoped>\n",
       "    .dataframe tbody tr th:only-of-type {\n",
       "        vertical-align: middle;\n",
       "    }\n",
       "\n",
       "    .dataframe tbody tr th {\n",
       "        vertical-align: top;\n",
       "    }\n",
       "\n",
       "    .dataframe thead th {\n",
       "        text-align: right;\n",
       "    }\n",
       "</style>\n",
       "<table border=\"1\" class=\"dataframe\">\n",
       "  <thead>\n",
       "    <tr style=\"text-align: right;\">\n",
       "      <th></th>\n",
       "      <th>Unnamed: 0</th>\n",
       "      <th>ICD_doc_id</th>\n",
       "      <th>sentence</th>\n",
       "      <th>num_words</th>\n",
       "      <th>num_chars</th>\n",
       "      <th>sentence_string</th>\n",
       "      <th>KATHLEEN_A</th>\n",
       "      <th>KATHLEEN_B</th>\n",
       "      <th>KATHLEEN_text</th>\n",
       "      <th>annotation_id</th>\n",
       "      <th>...</th>\n",
       "      <th>KAYCEE_B</th>\n",
       "      <th>KAYCEE_text</th>\n",
       "      <th>LIZ_A</th>\n",
       "      <th>LIZ_B</th>\n",
       "      <th>LIZ_text</th>\n",
       "      <th>inclusion</th>\n",
       "      <th>Sum_Annotations</th>\n",
       "      <th>ANY_A</th>\n",
       "      <th>ANY_B</th>\n",
       "      <th>EITHER_AB</th>\n",
       "    </tr>\n",
       "  </thead>\n",
       "  <tbody>\n",
       "    <tr>\n",
       "      <th>0</th>\n",
       "      <td>0</td>\n",
       "      <td>95581557</td>\n",
       "      <td>Ct) MERCY HEALTH \\nGRAND RAPIDS, Ml \\nCONSENT ...</td>\n",
       "      <td>23</td>\n",
       "      <td>106</td>\n",
       "      <td>Ct) MERCY HEALTH GRAND RAPIDS, Ml CONSENT TO R...</td>\n",
       "      <td>0</td>\n",
       "      <td>0</td>\n",
       "      <td>NaN</td>\n",
       "      <td>NaN</td>\n",
       "      <td>...</td>\n",
       "      <td>0</td>\n",
       "      <td>NaN</td>\n",
       "      <td>0</td>\n",
       "      <td>0</td>\n",
       "      <td>NaN</td>\n",
       "      <td>1</td>\n",
       "      <td>0</td>\n",
       "      <td>0</td>\n",
       "      <td>0</td>\n",
       "      <td>0</td>\n",
       "    </tr>\n",
       "    <tr>\n",
       "      <th>1</th>\n",
       "      <td>1</td>\n",
       "      <td>95581557</td>\n",
       "      <td>AND/OR BLOOD PRODUCTS \\n</td>\n",
       "      <td>6</td>\n",
       "      <td>23</td>\n",
       "      <td>AND/OR BLOOD PRODUCTS</td>\n",
       "      <td>0</td>\n",
       "      <td>0</td>\n",
       "      <td>NaN</td>\n",
       "      <td>NaN</td>\n",
       "      <td>...</td>\n",
       "      <td>0</td>\n",
       "      <td>NaN</td>\n",
       "      <td>0</td>\n",
       "      <td>0</td>\n",
       "      <td>NaN</td>\n",
       "      <td>0</td>\n",
       "      <td>0</td>\n",
       "      <td>0</td>\n",
       "      <td>0</td>\n",
       "      <td>0</td>\n",
       "    </tr>\n",
       "    <tr>\n",
       "      <th>2</th>\n",
       "      <td>2</td>\n",
       "      <td>95581557</td>\n",
       "      <td>I understand that I need or may need blood and...</td>\n",
       "      <td>27</td>\n",
       "      <td>130</td>\n",
       "      <td>I understand that I need or may need blood and...</td>\n",
       "      <td>0</td>\n",
       "      <td>0</td>\n",
       "      <td>NaN</td>\n",
       "      <td>71891838.0</td>\n",
       "      <td>...</td>\n",
       "      <td>0</td>\n",
       "      <td>I understand that I need or may need blood and...</td>\n",
       "      <td>0</td>\n",
       "      <td>0</td>\n",
       "      <td>NaN</td>\n",
       "      <td>1</td>\n",
       "      <td>1</td>\n",
       "      <td>1</td>\n",
       "      <td>0</td>\n",
       "      <td>1</td>\n",
       "    </tr>\n",
       "    <tr>\n",
       "      <th>3</th>\n",
       "      <td>3</td>\n",
       "      <td>95581557</td>\n",
       "      <td>This hospital admission D Outpatient: Series o...</td>\n",
       "      <td>12</td>\n",
       "      <td>69</td>\n",
       "      <td>This hospital admission D Outpatient: Series o...</td>\n",
       "      <td>0</td>\n",
       "      <td>0</td>\n",
       "      <td>NaN</td>\n",
       "      <td>71891838.0</td>\n",
       "      <td>...</td>\n",
       "      <td>0</td>\n",
       "      <td>This hospital admission D Outpatient: Series o...</td>\n",
       "      <td>0</td>\n",
       "      <td>0</td>\n",
       "      <td>NaN</td>\n",
       "      <td>1</td>\n",
       "      <td>1</td>\n",
       "      <td>1</td>\n",
       "      <td>0</td>\n",
       "      <td>1</td>\n",
       "    </tr>\n",
       "    <tr>\n",
       "      <th>4</th>\n",
       "      <td>4</td>\n",
       "      <td>95581557</td>\n",
       "      <td>DESCRIPTION OF PROCEDURE</td>\n",
       "      <td>3</td>\n",
       "      <td>24</td>\n",
       "      <td>DESCRIPTION OF PROCEDURE</td>\n",
       "      <td>0</td>\n",
       "      <td>0</td>\n",
       "      <td>NaN</td>\n",
       "      <td>NaN</td>\n",
       "      <td>...</td>\n",
       "      <td>0</td>\n",
       "      <td>NaN</td>\n",
       "      <td>0</td>\n",
       "      <td>0</td>\n",
       "      <td>NaN</td>\n",
       "      <td>0</td>\n",
       "      <td>0</td>\n",
       "      <td>0</td>\n",
       "      <td>0</td>\n",
       "      <td>0</td>\n",
       "    </tr>\n",
       "  </tbody>\n",
       "</table>\n",
       "<p>5 rows × 21 columns</p>\n",
       "</div>"
      ],
      "text/plain": [
       "   Unnamed: 0  ICD_doc_id                                           sentence  \\\n",
       "0           0    95581557  Ct) MERCY HEALTH \\nGRAND RAPIDS, Ml \\nCONSENT ...   \n",
       "1           1    95581557                           AND/OR BLOOD PRODUCTS \\n   \n",
       "2           2    95581557  I understand that I need or may need blood and...   \n",
       "3           3    95581557  This hospital admission D Outpatient: Series o...   \n",
       "4           4    95581557                           DESCRIPTION OF PROCEDURE   \n",
       "\n",
       "   num_words  num_chars                                    sentence_string  \\\n",
       "0         23        106  Ct) MERCY HEALTH GRAND RAPIDS, Ml CONSENT TO R...   \n",
       "1          6         23                             AND/OR BLOOD PRODUCTS    \n",
       "2         27        130  I understand that I need or may need blood and...   \n",
       "3         12         69  This hospital admission D Outpatient: Series o...   \n",
       "4          3         24                           DESCRIPTION OF PROCEDURE   \n",
       "\n",
       "   KATHLEEN_A  KATHLEEN_B KATHLEEN_text  annotation_id  ...  KAYCEE_B  \\\n",
       "0           0           0           NaN            NaN  ...         0   \n",
       "1           0           0           NaN            NaN  ...         0   \n",
       "2           0           0           NaN     71891838.0  ...         0   \n",
       "3           0           0           NaN     71891838.0  ...         0   \n",
       "4           0           0           NaN            NaN  ...         0   \n",
       "\n",
       "                                         KAYCEE_text LIZ_A  LIZ_B  LIZ_text  \\\n",
       "0                                                NaN     0      0       NaN   \n",
       "1                                                NaN     0      0       NaN   \n",
       "2  I understand that I need or may need blood and...     0      0       NaN   \n",
       "3  This hospital admission D Outpatient: Series o...     0      0       NaN   \n",
       "4                                                NaN     0      0       NaN   \n",
       "\n",
       "  inclusion  Sum_Annotations  ANY_A  ANY_B  EITHER_AB  \n",
       "0         1                0      0      0          0  \n",
       "1         0                0      0      0          0  \n",
       "2         1                1      1      0          1  \n",
       "3         1                1      1      0          1  \n",
       "4         0                0      0      0          0  \n",
       "\n",
       "[5 rows x 21 columns]"
      ]
     },
     "execution_count": 2,
     "metadata": {},
     "output_type": "execute_result"
    }
   ],
   "source": [
    "df = pd.read_csv(\"processed_annotations/CANNONICAL_LIST.csv\")\n",
    "df.head()"
   ]
  },
  {
   "cell_type": "code",
   "execution_count": 3,
   "metadata": {},
   "outputs": [
    {
     "name": "stdout",
     "output_type": "stream",
     "text": [
      "Total Sentences: 9951\n",
      "Total Sentences (clean): 6399; (% total: 0.643)\n",
      "Annotated Either A or B: 739; (% total: 0.074); (% clean: 0.115)\n",
      "Annotated A: 636; (% total: 0.064); (% clean: 0.099)\n",
      "Annotated B: 139;(% total: 0.014); (% clean: 0.022)\n"
     ]
    }
   ],
   "source": [
    "included = df[(df['inclusion'] == 1)]\n",
    "annotated_AB = df[(df['EITHER_AB'] == 1)]\n",
    "annotated_A = df[(df['ANY_A'] == 1)]\n",
    "annotated_B = df[(df['ANY_B'] == 1)]\n",
    "\n",
    "print(f\"Total Sentences: {len(df)}\")\n",
    "print(f\"Total Sentences (clean): {len(included)}; (% total: {len(included)/len(df):.3f})\")\n",
    "\n",
    "print(f\"Annotated Either A or B: {len(annotated_AB)}; (% total: {len(annotated_AB)/len(df):.3f}); (% clean: {len(annotated_AB)/len(included):.3f})\")\n",
    "print(f\"Annotated A: {len(annotated_A)}; (% total: {len(annotated_A)/len(df):.3f}); (% clean: {len(annotated_A)/len(included):.3f})\")\n",
    "print(f\"Annotated B: {len(annotated_B)};(% total: {len(annotated_B)/len(df):.3f}); (% clean: {len(annotated_B)/len(included):.3f})\")"
   ]
  },
  {
   "cell_type": "code",
   "execution_count": 4,
   "metadata": {},
   "outputs": [
    {
     "name": "stdout",
     "output_type": "stream",
     "text": [
      "Marked 'A'\n",
      "\tKATHLEEN: 413 (3.082 per doc)\n",
      "\tLIZ: 333  (2.485 per doc)\n",
      "\tKAYCEE: 452  (3.373 per doc)\n",
      "\n",
      "Marked 'B'\n",
      "\tKATHLEEN: 56 (0.418 per doc)\n",
      "\tLIZ: 59 (0.440 per doc)\n",
      "\tKAYCEE: 29 (0.216 per doc)\n"
     ]
    }
   ],
   "source": [
    "N_docs = len(set(df['ICD_doc_id']))\n",
    "\n",
    "KATHLEEN_A = np.sum(df['KATHLEEN_A'])\n",
    "KATHLEEN_B = np.sum(df['KATHLEEN_B'])\n",
    "\n",
    "LIZ_A = np.sum(df['LIZ_A'])\n",
    "LIZ_B = np.sum(df['LIZ_B'])\n",
    "\n",
    "KAYCEE_A = np.sum(df['KAYCEE_A'])\n",
    "KAYCEE_B = np.sum(df['KAYCEE_B'])\n",
    "\n",
    "print(\"Marked 'A'\")\n",
    "print(f\"\\tKATHLEEN: {KATHLEEN_A} ({KATHLEEN_A/N_docs:.3f} per doc)\")\n",
    "print(f\"\\tLIZ: {LIZ_A}  ({LIZ_A/N_docs:.3f} per doc)\")\n",
    "print(f\"\\tKAYCEE: {KAYCEE_A}  ({KAYCEE_A/N_docs:.3f} per doc)\")\n",
    "print()\n",
    "print(\"Marked 'B'\")\n",
    "print(f\"\\tKATHLEEN: {KATHLEEN_B} ({KATHLEEN_B/N_docs:.3f} per doc)\")\n",
    "print(f\"\\tLIZ: {LIZ_B} ({LIZ_B/N_docs:.3f} per doc)\")\n",
    "print(f\"\\tKAYCEE: {KAYCEE_B} ({KAYCEE_B/N_docs:.3f} per doc)\")"
   ]
  },
  {
   "cell_type": "code",
   "execution_count": 5,
   "metadata": {},
   "outputs": [
    {
     "name": "stdout",
     "output_type": "stream",
     "text": [
      "211\n",
      "0\n"
     ]
    }
   ],
   "source": [
    "agree_A = included[(included['KATHLEEN_A'] == 1) & (included['KAYCEE_A'] == 1) & (included['LIZ_A'])]\n",
    "agree_B = included[(included['KATHLEEN_B'] == 1) & (included['KAYCEE_B'] == 1) & (included['LIZ_B'])]\n",
    "print(len(agree_A))\n",
    "print(len(agree_B))"
   ]
  },
  {
   "cell_type": "code",
   "execution_count": 6,
   "metadata": {},
   "outputs": [
    {
     "data": {
      "text/plain": [
       "231"
      ]
     },
     "execution_count": 6,
     "metadata": {},
     "output_type": "execute_result"
    }
   ],
   "source": [
    "agree_any = included[((included['KATHLEEN_A'] == 1) | (included['KATHLEEN_B'] == 1) ) &\\\n",
    "                   ((included['LIZ_A'] == 1) | (included['LIZ_B'] == 1) ) &\\\n",
    "                   ((included['KAYCEE_A'] == 1) | (included['KAYCEE_B'] == 1) ) ]\n",
    "\n",
    "len(agree_any)"
   ]
  },
  {
   "cell_type": "code",
   "execution_count": 7,
   "metadata": {},
   "outputs": [
    {
     "data": {
      "text/plain": [
       "5660"
      ]
     },
     "execution_count": 7,
     "metadata": {},
     "output_type": "execute_result"
    }
   ],
   "source": [
    "blanks = included[((included['KATHLEEN_A'] == 0) & (included['KATHLEEN_B'] == 0) ) &\\\n",
    "                   ((included['LIZ_A'] == 0) & (included['LIZ_B'] == 0) ) &\\\n",
    "                   ((included['KAYCEE_A'] == 0) & (included['KAYCEE_B'] == 0) ) ]\n",
    "\n",
    "len(blanks)"
   ]
  },
  {
   "cell_type": "code",
   "execution_count": 8,
   "metadata": {},
   "outputs": [
    {
     "data": {
      "text/plain": [
       "0.8845132051883107"
      ]
     },
     "execution_count": 8,
     "metadata": {},
     "output_type": "execute_result"
    }
   ],
   "source": [
    "5660/6399"
   ]
  },
  {
   "cell_type": "code",
   "execution_count": 9,
   "metadata": {},
   "outputs": [
    {
     "name": "stdout",
     "output_type": "stream",
     "text": [
      "Marked 'A'\n",
      "KATHLEEN LIZ: 0.6131\n",
      "KATHLEEN KAYCEE: 0.5921\n",
      "LIZ KAYCEE : 0.6626\n",
      "\n",
      "Marked 'B'\n",
      "KATHLEEN LIZ: 0.0436\n",
      "KATHLEEN KAYCEE: 0.0177\n",
      "LIZ KAYCEE: 0.0168\n"
     ]
    }
   ],
   "source": [
    "KATHLEENvLIZ_A = cohen_kappa_score(included['KATHLEEN_A'], included['LIZ_A'])\n",
    "KATHLEENvKAYCEE_A = cohen_kappa_score(included['KATHLEEN_A'], included['KAYCEE_A'])\n",
    "LIZvKAYCEE_A = cohen_kappa_score(included['LIZ_A'], included['KAYCEE_A'])\n",
    "\n",
    "KATHLEENvLIZ_B = cohen_kappa_score(included['KATHLEEN_B'], included['LIZ_B'])\n",
    "KATHLEENvKAYCEE_B = cohen_kappa_score(included['KATHLEEN_B'], included['KAYCEE_B'])\n",
    "LIZvKAYCEE_B = cohen_kappa_score(included['KAYCEE_B'], included['LIZ_B'])\n",
    "\n",
    "print(\"Marked 'A'\")\n",
    "print(f\"KATHLEEN LIZ: {KATHLEENvLIZ_A:.4f}\")\n",
    "print(f\"KATHLEEN KAYCEE: {KATHLEENvKAYCEE_A:.4f}\")\n",
    "print(f\"LIZ KAYCEE : {LIZvKAYCEE_A:.4f}\")\n",
    "print()\n",
    "print(\"Marked 'B'\")\n",
    "print(f\"KATHLEEN LIZ: {KATHLEENvLIZ_B:.4f}\")\n",
    "print(f\"KATHLEEN KAYCEE: {KATHLEENvKAYCEE_B:.4f}\")\n",
    "print(f\"LIZ KAYCEE: {LIZvKAYCEE_B:.4f}\")"
   ]
  },
  {
   "cell_type": "code",
   "execution_count": 10,
   "metadata": {},
   "outputs": [],
   "source": [
    "# def fleiss_kappa(ratings, n):\n",
    "#     '''\n",
    "#     Computes the Fleiss' kappa measure for assessing the reliability of \n",
    "#     agreement between a fixed number n of raters when assigning categorical\n",
    "#     ratings to a number of items.\n",
    "    \n",
    "#     Args:\n",
    "#         ratings: a list of (item, category)-ratings\n",
    "#         n: number of raters\n",
    "#         k: number of categories\n",
    "#     Returns:\n",
    "#         the Fleiss' kappa score\n",
    "    \n",
    "#     See also:\n",
    "#         http://en.wikipedia.org/wiki/Fleiss'_kappa\n",
    "#     '''\n",
    "#     items = set()\n",
    "#     categories = set()\n",
    "#     n_ij = {}\n",
    "    \n",
    "#     for i, c in ratings:\n",
    "#         items.add(i)\n",
    "#         categories.add(c)\n",
    "#         n_ij[(i,c)] = n_ij.get((i,c), 0) + 1\n",
    "    \n",
    "#     N = len(items)\n",
    "    \n",
    "#     p_j = dict(((c, sum(n_ij.get((i, c), 0) for i in items) / (1.0 * n * N)) for c in categories))\n",
    "#     P_i = dict(((i, (sum(n_ij.get((i, c), 0) ** 2 for c in categories) - n) / (n * (n - 1.0))) for i in items))\n",
    "\n",
    "#     P_bar = sum(P_i.values()) / (1.0 * N)\n",
    "#     P_e_bar = sum(value ** 2 for value in p_j.values())\n",
    "    \n",
    "#     kappa = (P_bar - P_e_bar) / (1 - P_e_bar)\n",
    "    \n",
    "#     return kappa"
   ]
  },
  {
   "cell_type": "code",
   "execution_count": 26,
   "metadata": {},
   "outputs": [
    {
     "name": "stderr",
     "output_type": "stream",
     "text": [
      "/opt/anaconda3/lib/python3.7/site-packages/ipykernel_launcher.py:4: SettingWithCopyWarning: \n",
      "A value is trying to be set on a copy of a slice from a DataFrame.\n",
      "Try using .loc[row_indexer,col_indexer] = value instead\n",
      "\n",
      "See the caveats in the documentation: https://pandas.pydata.org/pandas-docs/stable/user_guide/indexing.html#returning-a-view-versus-a-copy\n",
      "  after removing the cwd from sys.path.\n",
      "/opt/anaconda3/lib/python3.7/site-packages/ipykernel_launcher.py:5: SettingWithCopyWarning: \n",
      "A value is trying to be set on a copy of a slice from a DataFrame.\n",
      "Try using .loc[row_indexer,col_indexer] = value instead\n",
      "\n",
      "See the caveats in the documentation: https://pandas.pydata.org/pandas-docs/stable/user_guide/indexing.html#returning-a-view-versus-a-copy\n",
      "  \"\"\"\n",
      "/opt/anaconda3/lib/python3.7/site-packages/ipykernel_launcher.py:6: SettingWithCopyWarning: \n",
      "A value is trying to be set on a copy of a slice from a DataFrame.\n",
      "Try using .loc[row_indexer,col_indexer] = value instead\n",
      "\n",
      "See the caveats in the documentation: https://pandas.pydata.org/pandas-docs/stable/user_guide/indexing.html#returning-a-view-versus-a-copy\n",
      "  \n"
     ]
    },
    {
     "data": {
      "text/plain": [
       "0.5736460903453653"
      ]
     },
     "execution_count": 26,
     "metadata": {},
     "output_type": "execute_result"
    }
   ],
   "source": [
    "from statsmodels.stats.inter_rater import fleiss_kappa\n",
    "\n",
    "\n",
    "included['sum_A'] = included['KATHLEEN_A'] + included['LIZ_A'] + included['KAYCEE_A']\n",
    "included['sum_B'] = included['KATHLEEN_B'] + included['LIZ_B'] + included['KAYCEE_B']\n",
    "included['sum_Blank'] = 3 - (included['sum_A'] + included['sum_B'])\n",
    "\n",
    "\n",
    "fl = included[['sum_A', 'sum_B', 'sum_Blank']]\n",
    "\n",
    "fleiss_kappa(fl, method='fleiss')"
   ]
  },
  {
   "cell_type": "code",
   "execution_count": null,
   "metadata": {},
   "outputs": [],
   "source": []
  },
  {
   "cell_type": "code",
   "execution_count": null,
   "metadata": {},
   "outputs": [],
   "source": []
  },
  {
   "cell_type": "code",
   "execution_count": null,
   "metadata": {},
   "outputs": [],
   "source": [
    "KATHLEENvLIZ_A = cohen_kappa_score(included['KATHLEEN_A'] + 1, included['LIZ_A'] + 1)\n",
    "KATHLEENvKAYCEE_A = cohen_kappa_score(included['KATHLEEN_A'] + 1, included['KAYCEE_A'] + 1)\n",
    "LIZvKAYCEE_A = cohen_kappa_score(included['LIZ_A'] + 1, included['KAYCEE_A'] + 1)\n",
    "\n",
    "KATHLEENvLIZ_B = cohen_kappa_score(included['KATHLEEN_B'] + 1, included['LIZ_B'] + 1)\n",
    "KATHLEENvKAYCEE_B = cohen_kappa_score(included['KATHLEEN_B'] + 1, included['KAYCEE_B'] + 1)\n",
    "LIZvKAYCEE_B = cohen_kappa_score(included['KAYCEE_B'] + 1, included['LIZ_B'] + 1)\n",
    "\n",
    "print(f\"KATHLEENvLIZ_A: {KATHLEENvLIZ_A:.4f}\")\n",
    "print(f\"KATHLEENvKAYCEE_A: {KATHLEENvKAYCEE_A:.4f}\")\n",
    "print(f\"LIZvKAYCEE_A: {LIZvKAYCEE_A:.4f}\")\n",
    "print(f\"KATHLEENvLIZ_B: {KATHLEENvLIZ_B:.4f}\")\n",
    "print(f\"KATHLEENvKAYCEE_B: {KATHLEENvKAYCEE_B:.4f}\")\n",
    "print(f\"LIZvKAYCEE_B: {LIZvKAYCEE_B:.4f}\")"
   ]
  },
  {
   "cell_type": "code",
   "execution_count": null,
   "metadata": {},
   "outputs": [],
   "source": []
  }
 ],
 "metadata": {
  "kernelspec": {
   "display_name": "Python 3",
   "language": "python",
   "name": "python3"
  },
  "language_info": {
   "codemirror_mode": {
    "name": "ipython",
    "version": 3
   },
   "file_extension": ".py",
   "mimetype": "text/x-python",
   "name": "python",
   "nbconvert_exporter": "python",
   "pygments_lexer": "ipython3",
   "version": "3.7.6"
  }
 },
 "nbformat": 4,
 "nbformat_minor": 4
}
