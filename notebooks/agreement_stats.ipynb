{
 "cells": [
  {
   "cell_type": "code",
   "execution_count": 1,
   "metadata": {},
   "outputs": [],
   "source": [
    "import pandas as pd\n",
    "import numpy as np\n",
    "\n",
    "from sklearn.metrics import cohen_kappa_score"
   ]
  },
  {
   "cell_type": "code",
   "execution_count": 2,
   "metadata": {},
   "outputs": [
    {
     "data": {
      "text/html": [
       "<div>\n",
       "<style scoped>\n",
       "    .dataframe tbody tr th:only-of-type {\n",
       "        vertical-align: middle;\n",
       "    }\n",
       "\n",
       "    .dataframe tbody tr th {\n",
       "        vertical-align: top;\n",
       "    }\n",
       "\n",
       "    .dataframe thead th {\n",
       "        text-align: right;\n",
       "    }\n",
       "</style>\n",
       "<table border=\"1\" class=\"dataframe\">\n",
       "  <thead>\n",
       "    <tr style=\"text-align: right;\">\n",
       "      <th></th>\n",
       "      <th>Unnamed: 0</th>\n",
       "      <th>ICD_doc_id</th>\n",
       "      <th>sentence</th>\n",
       "      <th>num_words</th>\n",
       "      <th>num_chars</th>\n",
       "      <th>sentence_string</th>\n",
       "      <th>KATHLEEN_A</th>\n",
       "      <th>KATHLEEN_B</th>\n",
       "      <th>KATHLEEN_text</th>\n",
       "      <th>annotation_id</th>\n",
       "      <th>...</th>\n",
       "      <th>KAYCEE_B</th>\n",
       "      <th>KAYCEE_text</th>\n",
       "      <th>LIZ_A</th>\n",
       "      <th>LIZ_B</th>\n",
       "      <th>LIZ_text</th>\n",
       "      <th>inclusion</th>\n",
       "      <th>Sum_Annotations</th>\n",
       "      <th>ANY_A</th>\n",
       "      <th>ANY_B</th>\n",
       "      <th>EITHER_AB</th>\n",
       "    </tr>\n",
       "  </thead>\n",
       "  <tbody>\n",
       "    <tr>\n",
       "      <th>0</th>\n",
       "      <td>0</td>\n",
       "      <td>95581557</td>\n",
       "      <td>Ct) MERCY HEALTH \\nGRAND RAPIDS, Ml \\nCONSENT ...</td>\n",
       "      <td>23</td>\n",
       "      <td>106</td>\n",
       "      <td>Ct) MERCY HEALTH GRAND RAPIDS, Ml CONSENT TO R...</td>\n",
       "      <td>0</td>\n",
       "      <td>0</td>\n",
       "      <td>NaN</td>\n",
       "      <td>NaN</td>\n",
       "      <td>...</td>\n",
       "      <td>0</td>\n",
       "      <td>NaN</td>\n",
       "      <td>0</td>\n",
       "      <td>0</td>\n",
       "      <td>NaN</td>\n",
       "      <td>1</td>\n",
       "      <td>0</td>\n",
       "      <td>0</td>\n",
       "      <td>0</td>\n",
       "      <td>0</td>\n",
       "    </tr>\n",
       "    <tr>\n",
       "      <th>1</th>\n",
       "      <td>1</td>\n",
       "      <td>95581557</td>\n",
       "      <td>AND/OR BLOOD PRODUCTS \\n</td>\n",
       "      <td>6</td>\n",
       "      <td>23</td>\n",
       "      <td>AND/OR BLOOD PRODUCTS</td>\n",
       "      <td>0</td>\n",
       "      <td>0</td>\n",
       "      <td>NaN</td>\n",
       "      <td>NaN</td>\n",
       "      <td>...</td>\n",
       "      <td>0</td>\n",
       "      <td>NaN</td>\n",
       "      <td>0</td>\n",
       "      <td>0</td>\n",
       "      <td>NaN</td>\n",
       "      <td>0</td>\n",
       "      <td>0</td>\n",
       "      <td>0</td>\n",
       "      <td>0</td>\n",
       "      <td>0</td>\n",
       "    </tr>\n",
       "    <tr>\n",
       "      <th>2</th>\n",
       "      <td>2</td>\n",
       "      <td>95581557</td>\n",
       "      <td>I understand that I need or may need blood and...</td>\n",
       "      <td>27</td>\n",
       "      <td>130</td>\n",
       "      <td>I understand that I need or may need blood and...</td>\n",
       "      <td>0</td>\n",
       "      <td>0</td>\n",
       "      <td>NaN</td>\n",
       "      <td>71891838.0</td>\n",
       "      <td>...</td>\n",
       "      <td>0</td>\n",
       "      <td>I understand that I need or may need blood and...</td>\n",
       "      <td>0</td>\n",
       "      <td>0</td>\n",
       "      <td>NaN</td>\n",
       "      <td>1</td>\n",
       "      <td>1</td>\n",
       "      <td>1</td>\n",
       "      <td>0</td>\n",
       "      <td>1</td>\n",
       "    </tr>\n",
       "    <tr>\n",
       "      <th>3</th>\n",
       "      <td>3</td>\n",
       "      <td>95581557</td>\n",
       "      <td>This hospital admission D Outpatient: Series o...</td>\n",
       "      <td>12</td>\n",
       "      <td>69</td>\n",
       "      <td>This hospital admission D Outpatient: Series o...</td>\n",
       "      <td>0</td>\n",
       "      <td>0</td>\n",
       "      <td>NaN</td>\n",
       "      <td>71891838.0</td>\n",
       "      <td>...</td>\n",
       "      <td>0</td>\n",
       "      <td>This hospital admission D Outpatient: Series o...</td>\n",
       "      <td>0</td>\n",
       "      <td>0</td>\n",
       "      <td>NaN</td>\n",
       "      <td>1</td>\n",
       "      <td>1</td>\n",
       "      <td>1</td>\n",
       "      <td>0</td>\n",
       "      <td>1</td>\n",
       "    </tr>\n",
       "    <tr>\n",
       "      <th>4</th>\n",
       "      <td>4</td>\n",
       "      <td>95581557</td>\n",
       "      <td>DESCRIPTION OF PROCEDURE</td>\n",
       "      <td>3</td>\n",
       "      <td>24</td>\n",
       "      <td>DESCRIPTION OF PROCEDURE</td>\n",
       "      <td>0</td>\n",
       "      <td>0</td>\n",
       "      <td>NaN</td>\n",
       "      <td>NaN</td>\n",
       "      <td>...</td>\n",
       "      <td>0</td>\n",
       "      <td>NaN</td>\n",
       "      <td>0</td>\n",
       "      <td>0</td>\n",
       "      <td>NaN</td>\n",
       "      <td>0</td>\n",
       "      <td>0</td>\n",
       "      <td>0</td>\n",
       "      <td>0</td>\n",
       "      <td>0</td>\n",
       "    </tr>\n",
       "  </tbody>\n",
       "</table>\n",
       "<p>5 rows × 21 columns</p>\n",
       "</div>"
      ],
      "text/plain": [
       "   Unnamed: 0  ICD_doc_id                                           sentence  \\\n",
       "0           0    95581557  Ct) MERCY HEALTH \\nGRAND RAPIDS, Ml \\nCONSENT ...   \n",
       "1           1    95581557                           AND/OR BLOOD PRODUCTS \\n   \n",
       "2           2    95581557  I understand that I need or may need blood and...   \n",
       "3           3    95581557  This hospital admission D Outpatient: Series o...   \n",
       "4           4    95581557                           DESCRIPTION OF PROCEDURE   \n",
       "\n",
       "   num_words  num_chars                                    sentence_string  \\\n",
       "0         23        106  Ct) MERCY HEALTH GRAND RAPIDS, Ml CONSENT TO R...   \n",
       "1          6         23                             AND/OR BLOOD PRODUCTS    \n",
       "2         27        130  I understand that I need or may need blood and...   \n",
       "3         12         69  This hospital admission D Outpatient: Series o...   \n",
       "4          3         24                           DESCRIPTION OF PROCEDURE   \n",
       "\n",
       "   KATHLEEN_A  KATHLEEN_B KATHLEEN_text  annotation_id  ...  KAYCEE_B  \\\n",
       "0           0           0           NaN            NaN  ...         0   \n",
       "1           0           0           NaN            NaN  ...         0   \n",
       "2           0           0           NaN     71891838.0  ...         0   \n",
       "3           0           0           NaN     71891838.0  ...         0   \n",
       "4           0           0           NaN            NaN  ...         0   \n",
       "\n",
       "                                         KAYCEE_text LIZ_A  LIZ_B  LIZ_text  \\\n",
       "0                                                NaN     0      0       NaN   \n",
       "1                                                NaN     0      0       NaN   \n",
       "2  I understand that I need or may need blood and...     0      0       NaN   \n",
       "3  This hospital admission D Outpatient: Series o...     0      0       NaN   \n",
       "4                                                NaN     0      0       NaN   \n",
       "\n",
       "  inclusion  Sum_Annotations  ANY_A  ANY_B  EITHER_AB  \n",
       "0         1                0      0      0          0  \n",
       "1         0                0      0      0          0  \n",
       "2         1                1      1      0          1  \n",
       "3         1                1      1      0          1  \n",
       "4         0                0      0      0          0  \n",
       "\n",
       "[5 rows x 21 columns]"
      ]
     },
     "execution_count": 2,
     "metadata": {},
     "output_type": "execute_result"
    }
   ],
   "source": [
    "df = pd.read_csv(\"processed_annotations/CANNONICAL_LIST.csv\")\n",
    "df.head()"
   ]
  },
  {
   "cell_type": "code",
   "execution_count": 3,
   "metadata": {},
   "outputs": [
    {
     "name": "stdout",
     "output_type": "stream",
     "text": [
      "Total Sentences: 9951\n",
      "Total Sentences (clean): 6399; (% total: 0.643)\n",
      "Annotated Either A or B: 739; (% total: 0.074); (% clean: 0.115)\n",
      "Annotated A: 636; (% total: 0.064); (% clean: 0.099)\n",
      "Annotated B: 139;(% total: 0.014); (% clean: 0.022)\n"
     ]
    }
   ],
   "source": [
    "included = df[(df['inclusion'] == 1)]\n",
    "annotated_AB = df[(df['EITHER_AB'] == 1)]\n",
    "annotated_A = df[(df['ANY_A'] == 1)]\n",
    "annotated_B = df[(df['ANY_B'] == 1)]\n",
    "\n",
    "print(f\"Total Sentences: {len(df)}\")\n",
    "print(f\"Total Sentences (clean): {len(included)}; (% total: {len(included)/len(df):.3f})\")\n",
    "\n",
    "print(f\"Annotated Either A or B: {len(annotated_AB)}; (% total: {len(annotated_AB)/len(df):.3f}); (% clean: {len(annotated_AB)/len(included):.3f})\")\n",
    "print(f\"Annotated A: {len(annotated_A)}; (% total: {len(annotated_A)/len(df):.3f}); (% clean: {len(annotated_A)/len(included):.3f})\")\n",
    "print(f\"Annotated B: {len(annotated_B)};(% total: {len(annotated_B)/len(df):.3f}); (% clean: {len(annotated_B)/len(included):.3f})\")"
   ]
  },
  {
   "cell_type": "code",
   "execution_count": 4,
   "metadata": {},
   "outputs": [
    {
     "name": "stdout",
     "output_type": "stream",
     "text": [
      "Marked 'A'\n",
      "\tKATHLEEN: 413 (3.082 per doc)\n",
      "\tLIZ: 333  (2.485 per doc)\n",
      "\tKAYCEE: 452  (3.373 per doc)\n",
      "\n",
      "Marked 'B'\n",
      "\tKATHLEEN: 56 (0.418 per doc)\n",
      "\tLIZ: 59 (0.440 per doc)\n",
      "\tKAYCEE: 29 (0.216 per doc)\n"
     ]
    }
   ],
   "source": [
    "N_docs = len(set(df['ICD_doc_id']))\n",
    "\n",
    "KATHLEEN_A = np.sum(df['KATHLEEN_A'])\n",
    "KATHLEEN_B = np.sum(df['KATHLEEN_B'])\n",
    "\n",
    "LIZ_A = np.sum(df['LIZ_A'])\n",
    "LIZ_B = np.sum(df['LIZ_B'])\n",
    "\n",
    "KAYCEE_A = np.sum(df['KAYCEE_A'])\n",
    "KAYCEE_B = np.sum(df['KAYCEE_B'])\n",
    "\n",
    "print(\"Marked 'A'\")\n",
    "print(f\"\\tKATHLEEN: {KATHLEEN_A} ({KATHLEEN_A/N_docs:.3f} per doc)\")\n",
    "print(f\"\\tLIZ: {LIZ_A}  ({LIZ_A/N_docs:.3f} per doc)\")\n",
    "print(f\"\\tKAYCEE: {KAYCEE_A}  ({KAYCEE_A/N_docs:.3f} per doc)\")\n",
    "print()\n",
    "print(\"Marked 'B'\")\n",
    "print(f\"\\tKATHLEEN: {KATHLEEN_B} ({KATHLEEN_B/N_docs:.3f} per doc)\")\n",
    "print(f\"\\tLIZ: {LIZ_B} ({LIZ_B/N_docs:.3f} per doc)\")\n",
    "print(f\"\\tKAYCEE: {KAYCEE_B} ({KAYCEE_B/N_docs:.3f} per doc)\")"
   ]
  },
  {
   "cell_type": "code",
   "execution_count": 5,
   "metadata": {},
   "outputs": [
    {
     "name": "stdout",
     "output_type": "stream",
     "text": [
      "211\n",
      "0\n"
     ]
    }
   ],
   "source": [
    "agree_A = included[(included['KATHLEEN_A'] == 1) & (included['KAYCEE_A'] == 1) & (included['LIZ_A'])]\n",
    "agree_B = included[(included['KATHLEEN_B'] == 1) & (included['KAYCEE_B'] == 1) & (included['LIZ_B'])]\n",
    "print(len(agree_A))\n",
    "print(len(agree_B))"
   ]
  },
  {
   "cell_type": "code",
   "execution_count": 6,
   "metadata": {},
   "outputs": [
    {
     "data": {
      "text/plain": [
       "231"
      ]
     },
     "execution_count": 6,
     "metadata": {},
     "output_type": "execute_result"
    }
   ],
   "source": [
    "agree_any = included[((included['KATHLEEN_A'] == 1) | (included['KATHLEEN_B'] == 1) ) &\\\n",
    "                   ((included['LIZ_A'] == 1) | (included['LIZ_B'] == 1) ) &\\\n",
    "                   ((included['KAYCEE_A'] == 1) | (included['KAYCEE_B'] == 1) ) ]\n",
    "\n",
    "len(agree_any)"
   ]
  },
  {
   "cell_type": "code",
   "execution_count": 7,
   "metadata": {},
   "outputs": [
    {
     "data": {
      "text/plain": [
       "5660"
      ]
     },
     "execution_count": 7,
     "metadata": {},
     "output_type": "execute_result"
    }
   ],
   "source": [
    "blanks = included[((included['KATHLEEN_A'] == 0) & (included['KATHLEEN_B'] == 0) ) &\\\n",
    "                   ((included['LIZ_A'] == 0) & (included['LIZ_B'] == 0) ) &\\\n",
    "                   ((included['KAYCEE_A'] == 0) & (included['KAYCEE_B'] == 0) ) ]\n",
    "\n",
    "len(blanks)"
   ]
  },
  {
   "cell_type": "code",
   "execution_count": 8,
   "metadata": {},
   "outputs": [
    {
     "data": {
      "text/plain": [
       "0.8845132051883107"
      ]
     },
     "execution_count": 8,
     "metadata": {},
     "output_type": "execute_result"
    }
   ],
   "source": [
    "5660/6399"
   ]
  },
  {
   "cell_type": "code",
   "execution_count": 9,
   "metadata": {},
   "outputs": [
    {
     "name": "stdout",
     "output_type": "stream",
     "text": [
      "Marked 'A'\n",
      "KATHLEEN LIZ: 0.6131\n",
      "KATHLEEN KAYCEE: 0.5921\n",
      "LIZ KAYCEE : 0.6626\n",
      "\n",
      "Marked 'B'\n",
      "KATHLEEN LIZ: 0.0436\n",
      "KATHLEEN KAYCEE: 0.0177\n",
      "LIZ KAYCEE: 0.0168\n"
     ]
    }
   ],
   "source": [
    "KATHLEENvLIZ_A = cohen_kappa_score(included['KATHLEEN_A'], included['LIZ_A'])\n",
    "KATHLEENvKAYCEE_A = cohen_kappa_score(included['KATHLEEN_A'], included['KAYCEE_A'])\n",
    "LIZvKAYCEE_A = cohen_kappa_score(included['LIZ_A'], included['KAYCEE_A'])\n",
    "\n",
    "KATHLEENvLIZ_B = cohen_kappa_score(included['KATHLEEN_B'], included['LIZ_B'])\n",
    "KATHLEENvKAYCEE_B = cohen_kappa_score(included['KATHLEEN_B'], included['KAYCEE_B'])\n",
    "LIZvKAYCEE_B = cohen_kappa_score(included['KAYCEE_B'], included['LIZ_B'])\n",
    "\n",
    "print(\"Marked 'A'\")\n",
    "print(f\"KATHLEEN LIZ: {KATHLEENvLIZ_A:.4f}\")\n",
    "print(f\"KATHLEEN KAYCEE: {KATHLEENvKAYCEE_A:.4f}\")\n",
    "print(f\"LIZ KAYCEE : {LIZvKAYCEE_A:.4f}\")\n",
    "print()\n",
    "print(\"Marked 'B'\")\n",
    "print(f\"KATHLEEN LIZ: {KATHLEENvLIZ_B:.4f}\")\n",
    "print(f\"KATHLEEN KAYCEE: {KATHLEENvKAYCEE_B:.4f}\")\n",
    "print(f\"LIZ KAYCEE: {LIZvKAYCEE_B:.4f}\")"
   ]
  },
  {
   "cell_type": "code",
   "execution_count": 10,
   "metadata": {},
   "outputs": [
    {
     "data": {
      "text/plain": [
       "0.5695"
      ]
     },
     "execution_count": 10,
     "metadata": {},
     "output_type": "execute_result"
    }
   ],
   "source": [
    "0.6131 - 0.0436"
   ]
  },
  {
   "cell_type": "code",
   "execution_count": 11,
   "metadata": {},
   "outputs": [
    {
     "name": "stdout",
     "output_type": "stream",
     "text": [
      "Marked 'A' or 'B'\n",
      "KATHLEEN LIZ: 0.5881\n",
      "LIZvKAYCEE: 0.6385\n",
      "KATHLEENvKAYCEE: 0.5550\n"
     ]
    },
    {
     "name": "stderr",
     "output_type": "stream",
     "text": [
      "/opt/anaconda3/lib/python3.7/site-packages/ipykernel_launcher.py:1: SettingWithCopyWarning: \n",
      "A value is trying to be set on a copy of a slice from a DataFrame.\n",
      "Try using .loc[row_indexer,col_indexer] = value instead\n",
      "\n",
      "See the caveats in the documentation: https://pandas.pydata.org/pandas-docs/stable/user_guide/indexing.html#returning-a-view-versus-a-copy\n",
      "  \"\"\"Entry point for launching an IPython kernel.\n",
      "/opt/anaconda3/lib/python3.7/site-packages/ipykernel_launcher.py:2: SettingWithCopyWarning: \n",
      "A value is trying to be set on a copy of a slice from a DataFrame.\n",
      "Try using .loc[row_indexer,col_indexer] = value instead\n",
      "\n",
      "See the caveats in the documentation: https://pandas.pydata.org/pandas-docs/stable/user_guide/indexing.html#returning-a-view-versus-a-copy\n",
      "  \n",
      "/opt/anaconda3/lib/python3.7/site-packages/ipykernel_launcher.py:3: SettingWithCopyWarning: \n",
      "A value is trying to be set on a copy of a slice from a DataFrame.\n",
      "Try using .loc[row_indexer,col_indexer] = value instead\n",
      "\n",
      "See the caveats in the documentation: https://pandas.pydata.org/pandas-docs/stable/user_guide/indexing.html#returning-a-view-versus-a-copy\n",
      "  This is separate from the ipykernel package so we can avoid doing imports until\n",
      "/opt/anaconda3/lib/python3.7/site-packages/ipykernel_launcher.py:5: SettingWithCopyWarning: \n",
      "A value is trying to be set on a copy of a slice from a DataFrame.\n",
      "Try using .loc[row_indexer,col_indexer] = value instead\n",
      "\n",
      "See the caveats in the documentation: https://pandas.pydata.org/pandas-docs/stable/user_guide/indexing.html#returning-a-view-versus-a-copy\n",
      "  \"\"\"\n",
      "/opt/anaconda3/lib/python3.7/site-packages/ipykernel_launcher.py:6: SettingWithCopyWarning: \n",
      "A value is trying to be set on a copy of a slice from a DataFrame.\n",
      "Try using .loc[row_indexer,col_indexer] = value instead\n",
      "\n",
      "See the caveats in the documentation: https://pandas.pydata.org/pandas-docs/stable/user_guide/indexing.html#returning-a-view-versus-a-copy\n",
      "  \n",
      "/opt/anaconda3/lib/python3.7/site-packages/ipykernel_launcher.py:7: SettingWithCopyWarning: \n",
      "A value is trying to be set on a copy of a slice from a DataFrame.\n",
      "Try using .loc[row_indexer,col_indexer] = value instead\n",
      "\n",
      "See the caveats in the documentation: https://pandas.pydata.org/pandas-docs/stable/user_guide/indexing.html#returning-a-view-versus-a-copy\n",
      "  import sys\n"
     ]
    }
   ],
   "source": [
    "included['LIZ_sumAB'] = included['LIZ_A'] + included['LIZ_B']\n",
    "included['KATHLEEN_sumAB'] = included['KATHLEEN_A'] + included['KATHLEEN_B']\n",
    "included['KAYCEE_sumAB'] = included['KAYCEE_A'] + included['KAYCEE_B']\n",
    "\n",
    "included['LIZ_any'] = [1 if x >= 1 else 0 for x in included['LIZ_sumAB']]\n",
    "included['KATHLEEN_any'] = [1 if x >= 1 else 0 for x in included['KATHLEEN_sumAB']]\n",
    "included['KAYCEE_any'] = [1 if x >= 1 else 0 for x in included['KAYCEE_sumAB']]\n",
    "\n",
    "\n",
    "KATHLEENvLIZ_Any = cohen_kappa_score(included['LIZ_any'], included['KATHLEEN_any'])\n",
    "LIZvKAYCEE_Any = cohen_kappa_score(included['LIZ_any'], included['KAYCEE_any'])\n",
    "KATHLEENvKAYCEE_Any = cohen_kappa_score(included['KAYCEE_any'], included['KATHLEEN_any'])\n",
    "\n",
    "print(\"Marked 'A' or 'B'\")\n",
    "print(f\"KATHLEEN LIZ: {KATHLEENvLIZ_Any:.4f}\")\n",
    "print(f\"LIZvKAYCEE: {LIZvKAYCEE_Any:.4f}\")\n",
    "print(f\"KATHLEENvKAYCEE: {KATHLEENvKAYCEE_Any:.4f}\")"
   ]
  },
  {
   "cell_type": "code",
   "execution_count": 12,
   "metadata": {},
   "outputs": [
    {
     "name": "stderr",
     "output_type": "stream",
     "text": [
      "/opt/anaconda3/lib/python3.7/site-packages/ipykernel_launcher.py:4: SettingWithCopyWarning: \n",
      "A value is trying to be set on a copy of a slice from a DataFrame.\n",
      "Try using .loc[row_indexer,col_indexer] = value instead\n",
      "\n",
      "See the caveats in the documentation: https://pandas.pydata.org/pandas-docs/stable/user_guide/indexing.html#returning-a-view-versus-a-copy\n",
      "  after removing the cwd from sys.path.\n",
      "/opt/anaconda3/lib/python3.7/site-packages/ipykernel_launcher.py:5: SettingWithCopyWarning: \n",
      "A value is trying to be set on a copy of a slice from a DataFrame.\n",
      "Try using .loc[row_indexer,col_indexer] = value instead\n",
      "\n",
      "See the caveats in the documentation: https://pandas.pydata.org/pandas-docs/stable/user_guide/indexing.html#returning-a-view-versus-a-copy\n",
      "  \"\"\"\n",
      "/opt/anaconda3/lib/python3.7/site-packages/ipykernel_launcher.py:6: SettingWithCopyWarning: \n",
      "A value is trying to be set on a copy of a slice from a DataFrame.\n",
      "Try using .loc[row_indexer,col_indexer] = value instead\n",
      "\n",
      "See the caveats in the documentation: https://pandas.pydata.org/pandas-docs/stable/user_guide/indexing.html#returning-a-view-versus-a-copy\n",
      "  \n"
     ]
    },
    {
     "data": {
      "text/plain": [
       "0.5736460903453653"
      ]
     },
     "execution_count": 12,
     "metadata": {},
     "output_type": "execute_result"
    }
   ],
   "source": [
    "from statsmodels.stats.inter_rater import fleiss_kappa\n",
    "\n",
    "\n",
    "included['sum_A'] = included['KATHLEEN_A'] + included['LIZ_A'] + included['KAYCEE_A']\n",
    "included['sum_B'] = included['KATHLEEN_B'] + included['LIZ_B'] + included['KAYCEE_B']\n",
    "included['sum_Blank'] = 3 - (included['sum_A'] + included['sum_B'])\n",
    "\n",
    "\n",
    "fl = included[['sum_A', 'sum_B', 'sum_Blank']]\n",
    "\n",
    "fleiss_kappa(fl, method='fleiss')"
   ]
  },
  {
   "cell_type": "code",
   "execution_count": null,
   "metadata": {},
   "outputs": [],
   "source": []
  },
  {
   "cell_type": "code",
   "execution_count": null,
   "metadata": {},
   "outputs": [],
   "source": []
  },
  {
   "cell_type": "code",
   "execution_count": 13,
   "metadata": {},
   "outputs": [
    {
     "name": "stdout",
     "output_type": "stream",
     "text": [
      "Marked 'A'\n",
      "KATHLEEN LIZ 0.037037037037037035\n",
      "KATHLEEN KAYCEE 0.04188154399124863\n",
      "KAYCEE LIZ 0.04188154399124863\n",
      "\n",
      "Marked 'B'\n",
      "KATHLEEN LIZ 0.00046882325363338024\n",
      "KATHLEEN KAYCEE 0.0001562744178777934\n",
      "KAYCEE LIZ 0.0001562744178777934\n",
      "\n",
      "Marked 'A' or 'B'\n",
      "KATHLEEN LIZ 0.041412720737615254\n",
      "KATHLEEN KAYCEE 0.04360056258790436\n",
      "KAYCEE LIZ 0.045163306766682294\n"
     ]
    }
   ],
   "source": [
    "print(\"Marked 'A'\")\n",
    "print('KATHLEEN LIZ', len([x for x in list(included['KATHLEEN_A'] + included['LIZ_A']) if x > 1]) / 6399)\n",
    "print('KATHLEEN KAYCEE', len([x for x in list(included['KATHLEEN_A'] + included['KAYCEE_A']) if x > 1]) / 6399)\n",
    "print('KAYCEE LIZ', len([x for x in list(included['KAYCEE_A'] + included['LIZ_A']) if x > 1]) / 6399)\n",
    "print()\n",
    "print(\"Marked 'B'\")\n",
    "print('KATHLEEN LIZ', len([x for x in list(included['KATHLEEN_B'] + included['LIZ_B']) if x > 1]) / 6399)\n",
    "print('KATHLEEN KAYCEE', len([x for x in list(included['KATHLEEN_B'] + included['KAYCEE_B']) if x > 1]) / 6399)\n",
    "print('KAYCEE LIZ', len([x for x in list(included['KAYCEE_B'] + included['LIZ_B']) if x > 1]) / 6399)\n",
    "print()\n",
    "print(\"Marked 'A' or 'B'\")\n",
    "print('KATHLEEN LIZ', len([x for x in list(included['KATHLEEN_any'] + included['LIZ_any']) if x > 1]) / 6399)\n",
    "print('KATHLEEN KAYCEE', len([x for x in list(included['KATHLEEN_any'] + included['KAYCEE_any']) if x > 1]) / 6399)\n",
    "print('KAYCEE LIZ', len([x for x in list(included['KAYCEE_any'] + included['LIZ_any']) if x > 1]) / 6399)\n",
    "\n",
    "# included['KAYCEE_A']\n",
    "\n",
    "# included['KATHLEEN_B']\n",
    "# included['LIZ_B']\n",
    "# included['KAYCEE_B']"
   ]
  },
  {
   "cell_type": "code",
   "execution_count": 14,
   "metadata": {},
   "outputs": [
    {
     "name": "stdout",
     "output_type": "stream",
     "text": [
      "KATHLEEN LIZ 0.9068604469448351\n",
      "KATHLEEN KAYCEE 0.8952961400218784\n",
      "KAYCEE LIZ 0.9088920143772464\n"
     ]
    }
   ],
   "source": [
    "print('KATHLEEN LIZ', len([x for x in list(included['KATHLEEN_any'] + included['LIZ_any']) if x == 0]) / 6399)\n",
    "print('KATHLEEN KAYCEE', len([x for x in list(included['KATHLEEN_any'] + included['KAYCEE_any']) if x == 0]) / 6399)\n",
    "print('KAYCEE LIZ', len([x for x in list(included['KAYCEE_any'] + included['LIZ_any']) if x == 0]) / 6399)"
   ]
  },
  {
   "cell_type": "code",
   "execution_count": 26,
   "metadata": {},
   "outputs": [
    {
     "name": "stdout",
     "output_type": "stream",
     "text": [
      "KATHLEEN LIZ 0.9482731676824504\n",
      "KATHLEEN KAYCEE 0.9388967026097828\n",
      "KAYCEE LIZ 0.9540553211439288\n"
     ]
    }
   ],
   "source": [
    "print('KATHLEEN LIZ', sum([1 if x == included['LIZ_any'].iloc[i] else 0 for i, x in enumerate(included['KATHLEEN_any'])])/6399)\n",
    "print('KATHLEEN KAYCEE', sum([1 if x == included['KATHLEEN_any'].iloc[i] else 0 for i, x in enumerate(included['KAYCEE_any'])])/6399)\n",
    "print('KAYCEE LIZ', sum([1 if x == included['LIZ_any'].iloc[i] else 0 for i, x in enumerate(included['KAYCEE_any'])])/6399)\n",
    "\n"
   ]
  },
  {
   "cell_type": "code",
   "execution_count": 34,
   "metadata": {},
   "outputs": [
    {
     "name": "stdout",
     "output_type": "stream",
     "text": [
      "KATHLEEN LIZ 0.9443663072355055\n",
      "KATHLEEN KAYCEE 0.9373339584310049\n",
      "KAYCEE LIZ 0.9509298327863729\n"
     ]
    }
   ],
   "source": [
    "KATHLEEN = [\"Blank\"] * 6399\n",
    "KAYCEE = [\"Blank\"] * 6399\n",
    "LIZ = [\"Blank\"] * 6399\n",
    "\n",
    "# KATHLEEN\n",
    "for i, x in enumerate(included['KATHLEEN_A']):\n",
    "    if x == 1:\n",
    "        KATHLEEN[i] = \"A\"\n",
    "        \n",
    "for i, x in enumerate(included['KATHLEEN_B']):\n",
    "    if x == 1:\n",
    "        KATHLEEN[i] = \"B\"\n",
    "        \n",
    "# KAYCEE\n",
    "for i, x in enumerate(included['KAYCEE_A']):\n",
    "    if x == 1:\n",
    "        KAYCEE[i] = \"A\"\n",
    "        \n",
    "for i, x in enumerate(included['KAYCEE_B']):\n",
    "    if x == 1:\n",
    "        KAYCEE[i] = \"B\"\n",
    "        \n",
    "# LIZ\n",
    "for i, x in enumerate(included['LIZ_A']):\n",
    "    if x == 1:\n",
    "        LIZ[i] = \"A\"\n",
    "        \n",
    "for i, x in enumerate(included['LIZ_B']):\n",
    "    if x == 1:\n",
    "        LIZ[i] = \"B\"\n",
    "        \n",
    "        \n",
    "\n",
    "print('KATHLEEN LIZ', sum([1 if x == LIZ[i] else 0 for i, x in enumerate(KATHLEEN)])/6399)\n",
    "print('KATHLEEN KAYCEE', sum([1 if x == KATHLEEN[i] else 0 for i, x in enumerate(KAYCEE)])/6399)\n",
    "print('KAYCEE LIZ', sum([1 if x == LIZ[i] else 0 for i, x in enumerate(KAYCEE)])/6399)"
   ]
  },
  {
   "cell_type": "code",
   "execution_count": 15,
   "metadata": {},
   "outputs": [
    {
     "data": {
      "text/plain": [
       "0.5836637132462347"
      ]
     },
     "execution_count": 15,
     "metadata": {},
     "output_type": "execute_result"
    }
   ],
   "source": [
    "KATHLEEN_A = list(included['KATHLEEN_A'])\n",
    "LIZ_A = list(included['LIZ_A'])\n",
    "KAYCEE_A = list(included['KAYCEE_A'])\n",
    "\n",
    "KATHLEEN_B = list(included['KATHLEEN_B'])\n",
    "LIZ_B = list(included['LIZ_B'])\n",
    "KAYCEE_B = list(included['KAYCEE_B'])\n",
    "\n",
    "\n",
    "KATHLEEN_A[:36] = [1] * 36\n",
    "KATHLEEN_A[:10]\n",
    "\n",
    "\n",
    "cohen_kappa_score(KATHLEEN_A, LIZ_A)\n"
   ]
  },
  {
   "cell_type": "code",
   "execution_count": null,
   "metadata": {},
   "outputs": [],
   "source": []
  }
 ],
 "metadata": {
  "kernelspec": {
   "display_name": "Python 3",
   "language": "python",
   "name": "python3"
  },
  "language_info": {
   "codemirror_mode": {
    "name": "ipython",
    "version": 3
   },
   "file_extension": ".py",
   "mimetype": "text/x-python",
   "name": "python",
   "nbconvert_exporter": "python",
   "pygments_lexer": "ipython3",
   "version": "3.7.6"
  }
 },
 "nbformat": 4,
 "nbformat_minor": 4
}
