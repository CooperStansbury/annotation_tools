{
 "cells": [
  {
   "cell_type": "markdown",
   "metadata": {},
   "source": [
    "# Goals\n",
    "\n",
    "1. Ingest and 'clean' annotations from multiple json files, annotators, and informed consent documents\n",
    "1. Ingest and 'clean' raw textual content from informed consent documents (including documents corrupted by upstream processes)\n",
    "1. Align annotations against their respective informed consent documents\n",
    "1. Save cannonical files for next analysis steps"
   ]
  },
  {
   "cell_type": "markdown",
   "metadata": {},
   "source": [
    "# Dependencies"
   ]
  },
  {
   "cell_type": "code",
   "execution_count": 1,
   "metadata": {},
   "outputs": [],
   "source": [
    "import sys\n",
    "import os\n",
    "import json\n",
    "import pandas as pd\n",
    "import hashlib\n",
    "import spacy\n",
    "import re\n",
    "import random\n",
    "from importlib import reload\n",
    "from datetime import datetime\n",
    "from collections import defaultdict\n",
    "from pprint import pprint\n",
    "\n",
    "import custom_classes"
   ]
  },
  {
   "cell_type": "markdown",
   "metadata": {},
   "source": [
    "# Load Raw Data"
   ]
  },
  {
   "cell_type": "code",
   "execution_count": 2,
   "metadata": {},
   "outputs": [
    {
     "name": "stdout",
     "output_type": "stream",
     "text": [
      "CPU times: user 3 µs, sys: 1 µs, total: 4 µs\n",
      "Wall time: 6.91 µs\n",
      "Saved to: `processed_annotations/ANNOTATIONS_02-14-2020.csv`\n",
      "Saved to: `processed_annotations/DOCUMENT_MAP_02-14-2020.json`\n"
     ]
    }
   ],
   "source": [
    "%time\n",
    "annotations = custom_classes.Raw_Annotations()\n",
    "annotations.save_annotations()\n",
    "annotations.save_document_map()"
   ]
  },
  {
   "cell_type": "code",
   "execution_count": 3,
   "metadata": {},
   "outputs": [
    {
     "name": "stdout",
     "output_type": "stream",
     "text": [
      "Help on module custom_classes:\n",
      "\n",
      "NAME\n",
      "    custom_classes\n",
      "\n",
      "DESCRIPTION\n",
      "    Get a list of files from the `data/` directory.\n",
      "    Each is a `.json. file with annotations for multiple informed consent documents. \n",
      "    Each `.json` file is a single annotator.\n",
      "\n",
      "CLASSES\n",
      "    builtins.object\n",
      "        Raw_Annotations\n",
      "    \n",
      "    class Raw_Annotations(builtins.object)\n",
      "     |  Raw_Annotations(data_dir='../data/', nlp_lib='en_core_web_lg')\n",
      "     |  \n",
      "     |  A class to help manage annotations from DataTurks\n",
      "     |  \n",
      "     |  Methods defined here:\n",
      "     |  \n",
      "     |  __init__(self, data_dir='../data/', nlp_lib='en_core_web_lg')\n",
      "     |      Args: \n",
      "     |          - data_dir (str): a path to a directory of json files \n",
      "     |              containing annotations\n",
      "     |  \n",
      "     |  build_document_map(self)\n",
      "     |      A function to get a map of documents and ids\n",
      "     |  \n",
      "     |  format_annotator_name(self, filename)\n",
      "     |      A function to return the formatted name of an annotator given a consistently \n",
      "     |      named file.\n",
      "     |      \n",
      "     |      Note: this depends on files named like `_NAME.json`\n",
      "     |      \n",
      "     |      Args:\n",
      "     |          - filename (str): a file name, expects name after last `_`\n",
      "     |              character\n",
      "     |      \n",
      "     |      Returns:\n",
      "     |          - name (str): a formated string\n",
      "     |  \n",
      "     |  get_annotators(self)\n",
      "     |      A function to get the names of annotators\n",
      "     |  \n",
      "     |  get_document_id(self, raw_content, digits=8)\n",
      "     |      A function to facilitate conversion of raw text into document ids\n",
      "     |      \n",
      "     |      Args:\n",
      "     |           - raw_content (str): a sufficient portion of the document as to \n",
      "     |               be unique with a high probability\n",
      "     |           - digits (int): number of digits to return\n",
      "     |      \n",
      "     |       Returns:\n",
      "     |           - doc_id (int): a document id\n",
      "     |  \n",
      "     |  get_dumps(self, json_file)\n",
      "     |      A function to return a list of json_dumps\n",
      "     |      from a given json_file\n",
      "     |      \n",
      "     |      Args:\n",
      "     |          - json_file (str): the path to the json file\n",
      "     |          \n",
      "     |      Returns:\n",
      "     |          - json_dumps (list): list of json dumps\n",
      "     |  \n",
      "     |  get_json_files(self)\n",
      "     |      A function to initialize a dictionary for storing annotations \n",
      "     |      \n",
      "     |      Returns:\n",
      "     |          - annotated_files (default dict): primary keys are annotators names\n",
      "     |  \n",
      "     |  load_annotations(self)\n",
      "     |      A function to load all annotations into a list\n",
      "     |  \n",
      "     |  save_annotations(self, out_dir='processed_annotations/')\n",
      "     |      A function to save files\n",
      "     |      \n",
      "     |      Args:\n",
      "     |          - outdir (str): the directory path of the output\n",
      "     |  \n",
      "     |  save_document_map(self, out_dir='processed_annotations/')\n",
      "     |      A function to save the document map. \n",
      "     |      \n",
      "     |      Args:\n",
      "     |          - outdir (str): the directory path of the output\n",
      "     |  \n",
      "     |  ----------------------------------------------------------------------\n",
      "     |  Data descriptors defined here:\n",
      "     |  \n",
      "     |  __dict__\n",
      "     |      dictionary for instance variables (if defined)\n",
      "     |  \n",
      "     |  __weakref__\n",
      "     |      list of weak references to the object (if defined)\n",
      "\n",
      "DATA\n",
      "    __warningregistry__ = {'version': 1593}\n",
      "\n",
      "FILE\n",
      "    /Users/milk/Desktop/git/annotation_tools/notebooks/custom_classes.py\n",
      "\n",
      "\n"
     ]
    }
   ],
   "source": [
    "help(custom_classes)"
   ]
  },
  {
   "cell_type": "code",
   "execution_count": null,
   "metadata": {},
   "outputs": [],
   "source": []
  },
  {
   "cell_type": "code",
   "execution_count": null,
   "metadata": {},
   "outputs": [],
   "source": []
  },
  {
   "cell_type": "code",
   "execution_count": null,
   "metadata": {},
   "outputs": [],
   "source": []
  },
  {
   "cell_type": "code",
   "execution_count": null,
   "metadata": {},
   "outputs": [],
   "source": []
  },
  {
   "cell_type": "code",
   "execution_count": null,
   "metadata": {},
   "outputs": [],
   "source": []
  },
  {
   "cell_type": "code",
   "execution_count": null,
   "metadata": {},
   "outputs": [],
   "source": []
  },
  {
   "cell_type": "code",
   "execution_count": null,
   "metadata": {},
   "outputs": [],
   "source": []
  },
  {
   "cell_type": "code",
   "execution_count": null,
   "metadata": {},
   "outputs": [],
   "source": []
  },
  {
   "cell_type": "code",
   "execution_count": null,
   "metadata": {},
   "outputs": [],
   "source": []
  },
  {
   "cell_type": "code",
   "execution_count": null,
   "metadata": {},
   "outputs": [],
   "source": []
  },
  {
   "cell_type": "code",
   "execution_count": null,
   "metadata": {},
   "outputs": [],
   "source": []
  },
  {
   "cell_type": "code",
   "execution_count": null,
   "metadata": {},
   "outputs": [],
   "source": []
  }
 ],
 "metadata": {
  "kernelspec": {
   "display_name": "Python 3",
   "language": "python",
   "name": "python3"
  },
  "language_info": {
   "codemirror_mode": {
    "name": "ipython",
    "version": 3
   },
   "file_extension": ".py",
   "mimetype": "text/x-python",
   "name": "python",
   "nbconvert_exporter": "python",
   "pygments_lexer": "ipython3",
   "version": "3.7.4"
  }
 },
 "nbformat": 4,
 "nbformat_minor": 4
}
