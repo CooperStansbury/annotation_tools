{
 "cells": [
  {
   "cell_type": "code",
   "execution_count": 67,
   "metadata": {},
   "outputs": [],
   "source": [
    "from sklearn.metrics import cohen_kappa_score\n",
    "import numpy as np\n",
    "import pandas as pd"
   ]
  },
  {
   "cell_type": "code",
   "execution_count": 46,
   "metadata": {
    "collapsed": true,
    "jupyter": {
     "outputs_hidden": true,
     "source_hidden": true
    }
   },
   "outputs": [
    {
     "name": "stdout",
     "output_type": "stream",
     "text": [
      "confusion matrix:\n",
      " [[20  5]\n",
      " [15 10]]\n",
      "n observations: 50\n",
      "p_observed: 0.7\n",
      "p_yes: 0.3\n",
      "p_no: 0.2\n",
      "k: 0.3999999999999999\n"
     ]
    }
   ],
   "source": [
    "a = np.array([[20,5],[15,10]])\n",
    "tot = np.sum(a)\n",
    "\n",
    "p_observed = (agg[0][0] + agg[1][1])/ tot \n",
    "p_yes = ((agg[0][0] + agg[0][1]) / tot) * ((agg[0][0] + agg[1][0]) / tot) \n",
    "p_no = ((agg[1][0] + agg[1][1]) / tot) * ((agg[0][1] + agg[1][1]) / tot) \n",
    "p_expected = p_yes + p_no\n",
    "\n",
    "k = (p_observed - p_expected) / (1 - p_expected)\n",
    "\n",
    "print(f\"confusion matrix:\\n {a}\")\n",
    "print(f\"n observations: {tot}\")\n",
    "print(f\"p_observed: {p_observed}\")\n",
    "print(f\"p_yes: {p_yes}\")\n",
    "print(f\"p_no: {p_no}\")\n",
    "print(f\"k: {k}\")"
   ]
  },
  {
   "cell_type": "code",
   "execution_count": 62,
   "metadata": {
    "collapsed": true,
    "jupyter": {
     "outputs_hidden": true,
     "source_hidden": true
    }
   },
   "outputs": [
    {
     "name": "stdout",
     "output_type": "stream",
     "text": [
      "confusion matrix:\n",
      " [[85  5]\n",
      " [ 3  7]]\n",
      "n observations: 100\n",
      "p_observed: 0.92\n",
      "p_yes: 0.792\n",
      "p_no: 0.012\n",
      "k: 0.5918367346938777\n"
     ]
    }
   ],
   "source": [
    "a = np.array([[85, 5],[3,7]])\n",
    "tot = np.sum(a)\n",
    "\n",
    "p_observed = (a[0][0] + a[1][1])/ tot \n",
    "p_yes = ((a[0][0] + a[0][1]) / tot) * ((a[0][0] + a[1][0]) / tot) \n",
    "p_no = ((a[1][0] + a[1][1]) / tot) * ((a[0][1] + a[1][1]) / tot) \n",
    "\n",
    "p_expected = p_yes + p_no\n",
    "\n",
    "k = (p_observed - p_expected) / (1 - p_expected)\n",
    "\n",
    "print(f\"confusion matrix:\\n {a}\")\n",
    "print(f\"n observations: {tot}\")\n",
    "print(f\"p_observed: {p_observed}\")\n",
    "print(f\"p_yes: {p_yes}\")\n",
    "print(f\"p_no: {p_no}\")\n",
    "print(f\"k: {k}\")"
   ]
  },
  {
   "cell_type": "code",
   "execution_count": 65,
   "metadata": {
    "collapsed": true,
    "jupyter": {
     "outputs_hidden": true,
     "source_hidden": true
    }
   },
   "outputs": [
    {
     "name": "stdout",
     "output_type": "stream",
     "text": [
      "confusion matrix:\n",
      " [[80 10]\n",
      " [ 8  2]]\n",
      "n observations: 100\n",
      "p_observed: 0.82\n",
      "p_yes: 0.792\n",
      "p_no: 0.012\n",
      "k: 0.08163265306122401\n"
     ]
    }
   ],
   "source": [
    "a = np.array([[80, 10],[8,2]])\n",
    "tot = np.sum(a)\n",
    "\n",
    "p_observed = (a[0][0] + a[1][1])/ tot \n",
    "p_yes = ((a[0][0] + a[0][1]) / tot) * ((a[0][0] + a[1][0]) / tot) \n",
    "p_no = ((a[1][0] + a[1][1]) / tot) * ((a[0][1] + a[1][1]) / tot) \n",
    "\n",
    "p_expected = p_yes + p_no\n",
    "\n",
    "k = (p_observed - p_expected) / (1 - p_expected)\n",
    "\n",
    "print(f\"confusion matrix:\\n {a}\")\n",
    "print(f\"n observations: {tot}\")\n",
    "print(f\"p_observed: {p_observed}\")\n",
    "print(f\"p_yes: {p_yes}\")\n",
    "print(f\"p_no: {p_no}\")\n",
    "print(f\"k: {k}\")"
   ]
  },
  {
   "cell_type": "code",
   "execution_count": 108,
   "metadata": {},
   "outputs": [
    {
     "name": "stdout",
     "output_type": "stream",
     "text": [
      "Agree on A: 0.6190476190476191\n",
      "Agree on B: -0.11111111111111116\n",
      "Agree on AB: 0.4347826086956522\n"
     ]
    }
   ],
   "source": [
    "rater1_A = [1] * 30 + [0] * 70\n",
    "rater2_A = [1] * 22 + [0] * 70 + [1] * 8\n",
    "\n",
    "rater1_B = [0] * 45  + [1] * 10 + [0] * 45\n",
    "rater2_B = [1] * 2 + [0] * 90 +[1] * 8\n",
    "\n",
    "df = pd.DataFrame({'rater1_A':rater1_A, \n",
    "                   'rater2_A':rater2_A,\n",
    "                   'rater1_B':rater1_B, \n",
    "                   'rater2_B':rater2_B,})\n",
    "\n",
    "df['rater1_AB'] = [1 if x > 0 else 0 for x in df['rater1_A'] + df['rater1_B']]\n",
    "df['rater2_AB'] = [1 if x > 0 else 0 for x in df['rater2_A'] + df['rater2_B']]\n",
    "\n",
    "# df.head()\n",
    "\n",
    "print(f\"Agree on A: {cohen_kappa_score(df['rater1_A'], df['rater2_A'], )}\")\n",
    "print(f\"Agree on B: {cohen_kappa_score(df['rater1_B'], df['rater2_B'], )}\")\n",
    "print(f\"Agree on AB: {cohen_kappa_score(df['rater1_AB'], df['rater2_AB'], )}\")"
   ]
  },
  {
   "cell_type": "code",
   "execution_count": null,
   "metadata": {},
   "outputs": [],
   "source": []
  }
 ],
 "metadata": {
  "kernelspec": {
   "display_name": "Python 3",
   "language": "python",
   "name": "python3"
  },
  "language_info": {
   "codemirror_mode": {
    "name": "ipython",
    "version": 3
   },
   "file_extension": ".py",
   "mimetype": "text/x-python",
   "name": "python",
   "nbconvert_exporter": "python",
   "pygments_lexer": "ipython3",
   "version": "3.7.6"
  }
 },
 "nbformat": 4,
 "nbformat_minor": 4
}
