{
 "cells": [
  {
   "cell_type": "code",
   "execution_count": 49,
   "metadata": {},
   "outputs": [],
   "source": [
    "import pandas as pd\n",
    "import numpy as np\n",
    "import itertools\n",
    "from collections import Counter\n",
    "from sklearn.metrics import cohen_kappa_score\n",
    "from statsmodels.stats.inter_rater import fleiss_kappa\n",
    "import krippendorff"
   ]
  },
  {
   "cell_type": "code",
   "execution_count": 2,
   "metadata": {},
   "outputs": [
    {
     "data": {
      "text/html": [
       "<div>\n",
       "<style scoped>\n",
       "    .dataframe tbody tr th:only-of-type {\n",
       "        vertical-align: middle;\n",
       "    }\n",
       "\n",
       "    .dataframe tbody tr th {\n",
       "        vertical-align: top;\n",
       "    }\n",
       "\n",
       "    .dataframe thead th {\n",
       "        text-align: right;\n",
       "    }\n",
       "</style>\n",
       "<table border=\"1\" class=\"dataframe\">\n",
       "  <thead>\n",
       "    <tr style=\"text-align: right;\">\n",
       "      <th></th>\n",
       "      <th>KATHLEEN</th>\n",
       "      <th>LIZ</th>\n",
       "      <th>KAYCEE</th>\n",
       "      <th>KATHLEEN_AB</th>\n",
       "      <th>LIZ_AB</th>\n",
       "      <th>KAYCEE_AB</th>\n",
       "    </tr>\n",
       "  </thead>\n",
       "  <tbody>\n",
       "    <tr>\n",
       "      <th>0</th>\n",
       "      <td>Blank</td>\n",
       "      <td>Blank</td>\n",
       "      <td>Blank</td>\n",
       "      <td>Blank</td>\n",
       "      <td>Blank</td>\n",
       "      <td>Blank</td>\n",
       "    </tr>\n",
       "    <tr>\n",
       "      <th>1</th>\n",
       "      <td>Blank</td>\n",
       "      <td>Blank</td>\n",
       "      <td>A</td>\n",
       "      <td>Blank</td>\n",
       "      <td>Blank</td>\n",
       "      <td>AB</td>\n",
       "    </tr>\n",
       "    <tr>\n",
       "      <th>2</th>\n",
       "      <td>Blank</td>\n",
       "      <td>Blank</td>\n",
       "      <td>A</td>\n",
       "      <td>Blank</td>\n",
       "      <td>Blank</td>\n",
       "      <td>AB</td>\n",
       "    </tr>\n",
       "    <tr>\n",
       "      <th>3</th>\n",
       "      <td>Blank</td>\n",
       "      <td>Blank</td>\n",
       "      <td>Blank</td>\n",
       "      <td>Blank</td>\n",
       "      <td>Blank</td>\n",
       "      <td>Blank</td>\n",
       "    </tr>\n",
       "    <tr>\n",
       "      <th>4</th>\n",
       "      <td>Blank</td>\n",
       "      <td>Blank</td>\n",
       "      <td>Blank</td>\n",
       "      <td>Blank</td>\n",
       "      <td>Blank</td>\n",
       "      <td>Blank</td>\n",
       "    </tr>\n",
       "  </tbody>\n",
       "</table>\n",
       "</div>"
      ],
      "text/plain": [
       "  KATHLEEN    LIZ KAYCEE KATHLEEN_AB LIZ_AB KAYCEE_AB\n",
       "0    Blank  Blank  Blank       Blank  Blank     Blank\n",
       "1    Blank  Blank      A       Blank  Blank        AB\n",
       "2    Blank  Blank      A       Blank  Blank        AB\n",
       "3    Blank  Blank  Blank       Blank  Blank     Blank\n",
       "4    Blank  Blank  Blank       Blank  Blank     Blank"
      ]
     },
     "execution_count": 2,
     "metadata": {},
     "output_type": "execute_result"
    }
   ],
   "source": [
    "df = pd.read_csv(\"annotations_simple.csv\")\n",
    "df.head()"
   ]
  },
  {
   "cell_type": "code",
   "execution_count": 62,
   "metadata": {},
   "outputs": [
    {
     "name": "stdout",
     "output_type": "stream",
     "text": [
      "Cohen's Kappa for (KATHLEEN, LIZ); k = 0.5606352189394579\n",
      "Cohen's Kappa for (KATHLEEN, KAYCEE); k = 0.5466147694095247\n",
      "Cohen's Kappa for (LIZ, KAYCEE); k = 0.6165392526614191\n",
      "\n",
      "Cohen's Kappa for (KATHLEEN_AB, LIZ_AB); k = 0.5880720200908507\n",
      "Cohen's Kappa for (KATHLEEN_AB, KAYCEE_AB); k = 0.5549935783776746\n",
      "Cohen's Kappa for (LIZ_AB, KAYCEE_AB); k = 0.6384612368956308\n"
     ]
    }
   ],
   "source": [
    "AB_separate = ['KATHLEEN', 'LIZ', 'KAYCEE']\n",
    "AB_together = ['KATHLEEN_AB', 'LIZ_AB', 'KAYCEE_AB']\n",
    "\n",
    "def get_Cohen(df, annotators):\n",
    "    \"\"\"Print Cohen's Kappa statistics\"\"\"\n",
    "    for r1, r2 in itertools.combinations(annotators, 2):\n",
    "        k = cohen_kappa_score(df[r1], df[r2])\n",
    "        print(f\"Cohen's Kappa for ({r1}, {r2}); k = {k}\")\n",
    "        \n",
    "\n",
    "get_Cohen(df, AB_separate)\n",
    "print()\n",
    "get_Cohen(df, AB_together)"
   ]
  },
  {
   "cell_type": "code",
   "execution_count": 61,
   "metadata": {},
   "outputs": [
    {
     "name": "stdout",
     "output_type": "stream",
     "text": [
      "Fleiss for separate=True: 0.5737495969692085\n",
      "Fleiss for separate=False: 0.5927284044165415\n"
     ]
    }
   ],
   "source": [
    "def get_Fleiss(df, sep=True):\n",
    "    \"\"\"Print Fleiss Kappa Stats\"\"\"\n",
    "    \n",
    "    if sep:\n",
    "        cols = [x for x in df.columns if not x.endswith(\"_AB\")]\n",
    "    else:\n",
    "        cols = [x for x in df.columns if x.endswith(\"_AB\")]\n",
    "        \n",
    "    tmp = df[cols]\n",
    "    counts = list(tmp.apply(lambda x: Counter(x), axis=1))    \n",
    "    new = pd.DataFrame(counts).fillna(0)\n",
    "    k = fleiss_kappa(new,  method='fleiss')\n",
    "    print(f\"Fleiss for separate={sep}: {k}\")\n",
    "\n",
    "get_Fleiss(df, sep=True)\n",
    "get_Fleiss(df, sep=False)"
   ]
  },
  {
   "cell_type": "code",
   "execution_count": 101,
   "metadata": {},
   "outputs": [
    {
     "name": "stdout",
     "output_type": "stream",
     "text": [
      "0.4753388012009404\n",
      "\n",
      "0.592749619793713\n"
     ]
    }
   ],
   "source": [
    "def get_Krippendorff(df, sep=True, w={'A': 1, 'B':0, 'Blank':-1}):\n",
    "    \"\"\"Print Krippendorff Stats\"\"\"\n",
    "    if sep:\n",
    "        cols = [x for x in df.columns if not x.endswith(\"_AB\")]\n",
    "    else:\n",
    "        cols = [x for x in df.columns if x.endswith(\"_AB\")]\n",
    "\n",
    "    tmp = df[cols].copy()\n",
    "#     for col in cols:\n",
    "#         tmp[col] = df[col].astype('category').cat.codes\n",
    "    \n",
    "#     reliability_data = tmp.T.to_numpy()\n",
    "#     k = krippendorff.alpha(reliability_data)\n",
    "#     print(f\"Krippendorff for separate={sep}: {k}\")\n",
    "    \n",
    "    # or the transpose way\n",
    "    counts = list(tmp.apply(lambda x: Counter(x), axis=1))    \n",
    "    new = pd.DataFrame(counts).fillna(0).to_numpy()\n",
    "    k = krippendorff.alpha(value_counts=new)\n",
    "    print(k)\n",
    "    \n",
    "    \n",
    "get_Krippendorff(df, sep=True)\n",
    "print()\n",
    "get_Krippendorff(df, sep=False)"
   ]
  },
  {
   "cell_type": "code",
   "execution_count": 68,
   "metadata": {},
   "outputs": [
    {
     "name": "stdout",
     "output_type": "stream",
     "text": [
      "\n",
      "*    *    *    *    *    3    4    1    2    1    1    3    3    *    3\n",
      "1    *    2    1    3    3    4    3    *    *    *    *    *    *    *\n",
      "*    *    2    1    3    4    4    *    2    1    1    3    3    *    4\n",
      "\n"
     ]
    },
    {
     "data": {
      "text/plain": [
       "[[nan, nan, nan, nan, nan, 3, 4, 1, 2, 1, 1, 3, 3, nan, 3],\n",
       " [1, nan, 2, 1, 3, 3, 4, 3, nan, nan, nan, nan, nan, nan, nan],\n",
       " [nan, nan, 2, 1, 3, 4, 4, nan, 2, 1, 1, 3, 3, nan, 4]]"
      ]
     },
     "execution_count": 68,
     "metadata": {},
     "output_type": "execute_result"
    }
   ],
   "source": [
    "print('')\n",
    "reliability_data_str = (\n",
    "\"*    *    *    *    *    3    4    1    2    1    1    3    3    *    3\",  # coder A\n",
    "\"1    *    2    1    3    3    4    3    *    *    *    *    *    *    *\",  # coder B\n",
    "\"*    *    2    1    3    4    4    *    2    1    1    3    3    *    4\",  # coder C\n",
    ")\n",
    "print('\\n'.join(reliability_data_str))\n",
    "print('')\n",
    "\n",
    "reliability_data = [[np.nan if v == '*' else int(v) for v in coder.split()] for coder in reliability_data_str]\n",
    "reliability_data"
   ]
  },
  {
   "cell_type": "code",
   "execution_count": 65,
   "metadata": {},
   "outputs": [
    {
     "ename": "NameError",
     "evalue": "name 'nltk' is not defined",
     "output_type": "error",
     "traceback": [
      "\u001b[0;31m---------------------------------------------------------------------------\u001b[0m",
      "\u001b[0;31mNameError\u001b[0m                                 Traceback (most recent call last)",
      "\u001b[0;32m<ipython-input-65-a54dd63a42cd>\u001b[0m in \u001b[0;36m<module>\u001b[0;34m\u001b[0m\n\u001b[0;32m----> 1\u001b[0;31m \u001b[0mnltk\u001b[0m\u001b[0;34m.\u001b[0m\u001b[0mmetrics\u001b[0m\u001b[0;34m.\u001b[0m\u001b[0magreement\u001b[0m\u001b[0;34m\u001b[0m\u001b[0;34m\u001b[0m\u001b[0m\n\u001b[0m",
      "\u001b[0;31mNameError\u001b[0m: name 'nltk' is not defined"
     ]
    }
   ],
   "source": []
  },
  {
   "cell_type": "code",
   "execution_count": null,
   "metadata": {},
   "outputs": [],
   "source": []
  }
 ],
 "metadata": {
  "kernelspec": {
   "display_name": "Python 3",
   "language": "python",
   "name": "python3"
  },
  "language_info": {
   "codemirror_mode": {
    "name": "ipython",
    "version": 3
   },
   "file_extension": ".py",
   "mimetype": "text/x-python",
   "name": "python",
   "nbconvert_exporter": "python",
   "pygments_lexer": "ipython3",
   "version": "3.7.6"
  }
 },
 "nbformat": 4,
 "nbformat_minor": 4
}
